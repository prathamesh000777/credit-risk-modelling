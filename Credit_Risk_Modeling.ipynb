{
 "cells": [
  {
   "cell_type": "markdown",
   "metadata": {},
   "source": [
    "# Credit Risk Modeling"
   ]
  },
  {
   "cell_type": "markdown",
   "metadata": {},
   "source": [
    "### Business Understanding:\n",
    "Credit Risk refers to the chance that a customer/borrower will not to be able to make their payments on time.\n",
    "This can be modeled using various Data Models which train Machine Learning Algorithms using the data acquired from the lender.\n",
    "The main objective of these models is to predict the probability that a loan will be repaid. \n",
    "\n",
    "<strong> Problem Statement: </strong> \"If given data about a borrower, how likely is it that the loan taken will be repaid?\""
   ]
  },
  {
   "cell_type": "markdown",
   "metadata": {},
   "source": [
    "### Data Understanding"
   ]
  },
  {
   "cell_type": "markdown",
   "metadata": {},
   "source": [
    "The personal details of a borrower that was collected from the lender contains:\n",
    "\n",
    "- Serious Dlq in 2yrs \n",
    "- Revolving Utilization Of Unsecured Lines\n",
    "- Age\n",
    "- Number Of Time 30-59 Days Past Due Not Worse \n",
    "- Debt Ratio\n",
    "- Monthly Income\n",
    "- Number Of Open Credit Lines And Loans \n",
    "- Number Of Times 90-Days Late\n",
    "- Number Real Estate Loans Or Lines \n",
    "- Number Of Time 60-89 Days Past Due Not Worse\n",
    "- Number Of Dependents"
   ]
  },
  {
   "cell_type": "markdown",
   "metadata": {},
   "source": [
    "Importing the necessary libraries and the data required"
   ]
  },
  {
   "cell_type": "code",
   "execution_count": 1,
   "metadata": {},
   "outputs": [],
   "source": [
    "from __future__ import print_function\n",
    "import pandas as pd\n",
    "import numpy as np\n",
    "import matplotlib.pyplot as plt\n",
    "%matplotlib inline\n",
    "import seaborn as sns\n"
   ]
  },
  {
   "cell_type": "code",
   "execution_count": 2,
   "metadata": {
    "scrolled": true
   },
   "outputs": [
    {
     "data": {
      "text/html": [
       "<div>\n",
       "<style scoped>\n",
       "    .dataframe tbody tr th:only-of-type {\n",
       "        vertical-align: middle;\n",
       "    }\n",
       "\n",
       "    .dataframe tbody tr th {\n",
       "        vertical-align: top;\n",
       "    }\n",
       "\n",
       "    .dataframe thead th {\n",
       "        text-align: right;\n",
       "    }\n",
       "</style>\n",
       "<table border=\"1\" class=\"dataframe\">\n",
       "  <thead>\n",
       "    <tr style=\"text-align: right;\">\n",
       "      <th></th>\n",
       "      <th>Unnamed: 0</th>\n",
       "      <th>SeriousDlqin2yrs</th>\n",
       "      <th>RevolvingUtilizationOfUnsecuredLines</th>\n",
       "      <th>age</th>\n",
       "      <th>NumberOfTime30-59DaysPastDueNotWorse</th>\n",
       "      <th>DebtRatio</th>\n",
       "      <th>MonthlyIncome</th>\n",
       "      <th>NumberOfOpenCreditLinesAndLoans</th>\n",
       "      <th>NumberOfTimes90DaysLate</th>\n",
       "      <th>NumberRealEstateLoansOrLines</th>\n",
       "      <th>NumberOfTime60-89DaysPastDueNotWorse</th>\n",
       "      <th>NumberOfDependents</th>\n",
       "    </tr>\n",
       "  </thead>\n",
       "  <tbody>\n",
       "    <tr>\n",
       "      <th>0</th>\n",
       "      <td>1</td>\n",
       "      <td>1</td>\n",
       "      <td>0.766127</td>\n",
       "      <td>45</td>\n",
       "      <td>2</td>\n",
       "      <td>0.802982</td>\n",
       "      <td>9120.0</td>\n",
       "      <td>13</td>\n",
       "      <td>0</td>\n",
       "      <td>6</td>\n",
       "      <td>0</td>\n",
       "      <td>2.0</td>\n",
       "    </tr>\n",
       "    <tr>\n",
       "      <th>1</th>\n",
       "      <td>2</td>\n",
       "      <td>0</td>\n",
       "      <td>0.957151</td>\n",
       "      <td>40</td>\n",
       "      <td>0</td>\n",
       "      <td>0.121876</td>\n",
       "      <td>2600.0</td>\n",
       "      <td>4</td>\n",
       "      <td>0</td>\n",
       "      <td>0</td>\n",
       "      <td>0</td>\n",
       "      <td>1.0</td>\n",
       "    </tr>\n",
       "    <tr>\n",
       "      <th>2</th>\n",
       "      <td>3</td>\n",
       "      <td>0</td>\n",
       "      <td>0.658180</td>\n",
       "      <td>38</td>\n",
       "      <td>1</td>\n",
       "      <td>0.085113</td>\n",
       "      <td>3042.0</td>\n",
       "      <td>2</td>\n",
       "      <td>1</td>\n",
       "      <td>0</td>\n",
       "      <td>0</td>\n",
       "      <td>0.0</td>\n",
       "    </tr>\n",
       "    <tr>\n",
       "      <th>3</th>\n",
       "      <td>4</td>\n",
       "      <td>0</td>\n",
       "      <td>0.233810</td>\n",
       "      <td>30</td>\n",
       "      <td>0</td>\n",
       "      <td>0.036050</td>\n",
       "      <td>3300.0</td>\n",
       "      <td>5</td>\n",
       "      <td>0</td>\n",
       "      <td>0</td>\n",
       "      <td>0</td>\n",
       "      <td>0.0</td>\n",
       "    </tr>\n",
       "    <tr>\n",
       "      <th>4</th>\n",
       "      <td>5</td>\n",
       "      <td>0</td>\n",
       "      <td>0.907239</td>\n",
       "      <td>49</td>\n",
       "      <td>1</td>\n",
       "      <td>0.024926</td>\n",
       "      <td>63588.0</td>\n",
       "      <td>7</td>\n",
       "      <td>0</td>\n",
       "      <td>1</td>\n",
       "      <td>0</td>\n",
       "      <td>0.0</td>\n",
       "    </tr>\n",
       "  </tbody>\n",
       "</table>\n",
       "</div>"
      ],
      "text/plain": [
       "   Unnamed: 0  SeriousDlqin2yrs  RevolvingUtilizationOfUnsecuredLines  age  \\\n",
       "0           1                 1                              0.766127   45   \n",
       "1           2                 0                              0.957151   40   \n",
       "2           3                 0                              0.658180   38   \n",
       "3           4                 0                              0.233810   30   \n",
       "4           5                 0                              0.907239   49   \n",
       "\n",
       "   NumberOfTime30-59DaysPastDueNotWorse  DebtRatio  MonthlyIncome  \\\n",
       "0                                     2   0.802982         9120.0   \n",
       "1                                     0   0.121876         2600.0   \n",
       "2                                     1   0.085113         3042.0   \n",
       "3                                     0   0.036050         3300.0   \n",
       "4                                     1   0.024926        63588.0   \n",
       "\n",
       "   NumberOfOpenCreditLinesAndLoans  NumberOfTimes90DaysLate  \\\n",
       "0                               13                        0   \n",
       "1                                4                        0   \n",
       "2                                2                        1   \n",
       "3                                5                        0   \n",
       "4                                7                        0   \n",
       "\n",
       "   NumberRealEstateLoansOrLines  NumberOfTime60-89DaysPastDueNotWorse  \\\n",
       "0                             6                                     0   \n",
       "1                             0                                     0   \n",
       "2                             0                                     0   \n",
       "3                             0                                     0   \n",
       "4                             1                                     0   \n",
       "\n",
       "   NumberOfDependents  \n",
       "0                 2.0  \n",
       "1                 1.0  \n",
       "2                 0.0  \n",
       "3                 0.0  \n",
       "4                 0.0  "
      ]
     },
     "execution_count": 2,
     "metadata": {},
     "output_type": "execute_result"
    }
   ],
   "source": [
    "training_data = pd.read_csv(\"https://raw.githubusercontent.com/akjadon/Finalprojects_DS/master/Credit-Risk-Modelling/data/cs-training.csv\")\n",
    "training_data.head()"
   ]
  },
  {
   "cell_type": "markdown",
   "metadata": {},
   "source": [
    "### Data Cleaning / Data Preparation"
   ]
  },
  {
   "cell_type": "code",
   "execution_count": 3,
   "metadata": {
    "scrolled": true
   },
   "outputs": [
    {
     "data": {
      "text/html": [
       "<div>\n",
       "<style scoped>\n",
       "    .dataframe tbody tr th:only-of-type {\n",
       "        vertical-align: middle;\n",
       "    }\n",
       "\n",
       "    .dataframe tbody tr th {\n",
       "        vertical-align: top;\n",
       "    }\n",
       "\n",
       "    .dataframe thead th {\n",
       "        text-align: right;\n",
       "    }\n",
       "</style>\n",
       "<table border=\"1\" class=\"dataframe\">\n",
       "  <thead>\n",
       "    <tr style=\"text-align: right;\">\n",
       "      <th></th>\n",
       "      <th>SeriousDlqin2yrs</th>\n",
       "      <th>RevolvingUtilizationOfUnsecuredLines</th>\n",
       "      <th>age</th>\n",
       "      <th>NumberOfTime30-59DaysPastDueNotWorse</th>\n",
       "      <th>DebtRatio</th>\n",
       "      <th>MonthlyIncome</th>\n",
       "      <th>NumberOfOpenCreditLinesAndLoans</th>\n",
       "      <th>NumberOfTimes90DaysLate</th>\n",
       "      <th>NumberRealEstateLoansOrLines</th>\n",
       "      <th>NumberOfTime60-89DaysPastDueNotWorse</th>\n",
       "      <th>NumberOfDependents</th>\n",
       "    </tr>\n",
       "  </thead>\n",
       "  <tbody>\n",
       "    <tr>\n",
       "      <th>0</th>\n",
       "      <td>1</td>\n",
       "      <td>0.766127</td>\n",
       "      <td>45</td>\n",
       "      <td>2</td>\n",
       "      <td>0.802982</td>\n",
       "      <td>9120.0</td>\n",
       "      <td>13</td>\n",
       "      <td>0</td>\n",
       "      <td>6</td>\n",
       "      <td>0</td>\n",
       "      <td>2.0</td>\n",
       "    </tr>\n",
       "    <tr>\n",
       "      <th>1</th>\n",
       "      <td>0</td>\n",
       "      <td>0.957151</td>\n",
       "      <td>40</td>\n",
       "      <td>0</td>\n",
       "      <td>0.121876</td>\n",
       "      <td>2600.0</td>\n",
       "      <td>4</td>\n",
       "      <td>0</td>\n",
       "      <td>0</td>\n",
       "      <td>0</td>\n",
       "      <td>1.0</td>\n",
       "    </tr>\n",
       "    <tr>\n",
       "      <th>2</th>\n",
       "      <td>0</td>\n",
       "      <td>0.658180</td>\n",
       "      <td>38</td>\n",
       "      <td>1</td>\n",
       "      <td>0.085113</td>\n",
       "      <td>3042.0</td>\n",
       "      <td>2</td>\n",
       "      <td>1</td>\n",
       "      <td>0</td>\n",
       "      <td>0</td>\n",
       "      <td>0.0</td>\n",
       "    </tr>\n",
       "    <tr>\n",
       "      <th>3</th>\n",
       "      <td>0</td>\n",
       "      <td>0.233810</td>\n",
       "      <td>30</td>\n",
       "      <td>0</td>\n",
       "      <td>0.036050</td>\n",
       "      <td>3300.0</td>\n",
       "      <td>5</td>\n",
       "      <td>0</td>\n",
       "      <td>0</td>\n",
       "      <td>0</td>\n",
       "      <td>0.0</td>\n",
       "    </tr>\n",
       "    <tr>\n",
       "      <th>4</th>\n",
       "      <td>0</td>\n",
       "      <td>0.907239</td>\n",
       "      <td>49</td>\n",
       "      <td>1</td>\n",
       "      <td>0.024926</td>\n",
       "      <td>63588.0</td>\n",
       "      <td>7</td>\n",
       "      <td>0</td>\n",
       "      <td>1</td>\n",
       "      <td>0</td>\n",
       "      <td>0.0</td>\n",
       "    </tr>\n",
       "  </tbody>\n",
       "</table>\n",
       "</div>"
      ],
      "text/plain": [
       "   SeriousDlqin2yrs  RevolvingUtilizationOfUnsecuredLines  age  \\\n",
       "0                 1                              0.766127   45   \n",
       "1                 0                              0.957151   40   \n",
       "2                 0                              0.658180   38   \n",
       "3                 0                              0.233810   30   \n",
       "4                 0                              0.907239   49   \n",
       "\n",
       "   NumberOfTime30-59DaysPastDueNotWorse  DebtRatio  MonthlyIncome  \\\n",
       "0                                     2   0.802982         9120.0   \n",
       "1                                     0   0.121876         2600.0   \n",
       "2                                     1   0.085113         3042.0   \n",
       "3                                     0   0.036050         3300.0   \n",
       "4                                     1   0.024926        63588.0   \n",
       "\n",
       "   NumberOfOpenCreditLinesAndLoans  NumberOfTimes90DaysLate  \\\n",
       "0                               13                        0   \n",
       "1                                4                        0   \n",
       "2                                2                        1   \n",
       "3                                5                        0   \n",
       "4                                7                        0   \n",
       "\n",
       "   NumberRealEstateLoansOrLines  NumberOfTime60-89DaysPastDueNotWorse  \\\n",
       "0                             6                                     0   \n",
       "1                             0                                     0   \n",
       "2                             0                                     0   \n",
       "3                             0                                     0   \n",
       "4                             1                                     0   \n",
       "\n",
       "   NumberOfDependents  \n",
       "0                 2.0  \n",
       "1                 1.0  \n",
       "2                 0.0  \n",
       "3                 0.0  \n",
       "4                 0.0  "
      ]
     },
     "execution_count": 3,
     "metadata": {},
     "output_type": "execute_result"
    }
   ],
   "source": [
    "training_data = training_data.drop('Unnamed: 0', axis=1) #removing the index\n",
    "training_data.head()"
   ]
  },
  {
   "cell_type": "code",
   "execution_count": 4,
   "metadata": {},
   "outputs": [
    {
     "data": {
      "text/plain": [
       "Index(['SeriousDlqin2yrs', 'RevolvingUtilizationOfUnsecuredLines', 'age',\n",
       "       'NumberOfTime30-59DaysPastDueNotWorse', 'DebtRatio', 'MonthlyIncome',\n",
       "       'NumberOfOpenCreditLinesAndLoans', 'NumberOfTimes90DaysLate',\n",
       "       'NumberRealEstateLoansOrLines', 'NumberOfTime60-89DaysPastDueNotWorse',\n",
       "       'NumberOfDependents'],\n",
       "      dtype='object')"
      ]
     },
     "execution_count": 4,
     "metadata": {},
     "output_type": "execute_result"
    }
   ],
   "source": [
    "training_data.columns"
   ]
  },
  {
   "cell_type": "markdown",
   "metadata": {},
   "source": [
    "Cleaning the column names so that it is easy to access them."
   ]
  },
  {
   "cell_type": "code",
   "execution_count": 5,
   "metadata": {
    "scrolled": true
   },
   "outputs": [
    {
     "data": {
      "text/plain": [
       "Index(['seriousdlqin2yrs', 'revolvingutilizationofunsecuredlines', 'age',\n",
       "       'numberoftime3059dayspastduenotworse', 'debtratio', 'monthlyincome',\n",
       "       'numberofopencreditlinesandloans', 'numberoftimes90dayslate',\n",
       "       'numberrealestateloansorlines', 'numberoftime6089dayspastduenotworse',\n",
       "       'numberofdependents'],\n",
       "      dtype='object')"
      ]
     },
     "execution_count": 5,
     "metadata": {},
     "output_type": "execute_result"
    }
   ],
   "source": [
    "#replacing '-' with '' in column names and converting them to lowercase\n",
    "cleaned_column = []\n",
    "for column in training_data.columns:\n",
    "    cleaned_column.append(column.replace('-','').lower())\n",
    "training_data.columns=cleaned_column \n",
    "training_data.columns"
   ]
  },
  {
   "cell_type": "markdown",
   "metadata": {},
   "source": [
    "Performing some <strong> EDA(Exploratory Data Analysis)</strong> on the data."
   ]
  },
  {
   "cell_type": "code",
   "execution_count": 6,
   "metadata": {
    "scrolled": false
   },
   "outputs": [
    {
     "data": {
      "text/html": [
       "<div>\n",
       "<style scoped>\n",
       "    .dataframe tbody tr th:only-of-type {\n",
       "        vertical-align: middle;\n",
       "    }\n",
       "\n",
       "    .dataframe tbody tr th {\n",
       "        vertical-align: top;\n",
       "    }\n",
       "\n",
       "    .dataframe thead th {\n",
       "        text-align: right;\n",
       "    }\n",
       "</style>\n",
       "<table border=\"1\" class=\"dataframe\">\n",
       "  <thead>\n",
       "    <tr style=\"text-align: right;\">\n",
       "      <th></th>\n",
       "      <th>revolvingutilizationofunsecuredlines</th>\n",
       "      <th>age</th>\n",
       "      <th>numberoftime3059dayspastduenotworse</th>\n",
       "      <th>debtratio</th>\n",
       "      <th>monthlyincome</th>\n",
       "      <th>numberofopencreditlinesandloans</th>\n",
       "      <th>numberoftimes90dayslate</th>\n",
       "      <th>numberrealestateloansorlines</th>\n",
       "      <th>numberoftime6089dayspastduenotworse</th>\n",
       "      <th>numberofdependents</th>\n",
       "    </tr>\n",
       "  </thead>\n",
       "  <tbody>\n",
       "    <tr>\n",
       "      <th>count</th>\n",
       "      <td>150000.000000</td>\n",
       "      <td>150000.000000</td>\n",
       "      <td>150000.000000</td>\n",
       "      <td>150000.000000</td>\n",
       "      <td>1.202690e+05</td>\n",
       "      <td>150000.000000</td>\n",
       "      <td>150000.000000</td>\n",
       "      <td>150000.000000</td>\n",
       "      <td>150000.000000</td>\n",
       "      <td>146076.000000</td>\n",
       "    </tr>\n",
       "    <tr>\n",
       "      <th>mean</th>\n",
       "      <td>6.048438</td>\n",
       "      <td>52.295207</td>\n",
       "      <td>0.421033</td>\n",
       "      <td>353.005076</td>\n",
       "      <td>6.670221e+03</td>\n",
       "      <td>8.452760</td>\n",
       "      <td>0.265973</td>\n",
       "      <td>1.018240</td>\n",
       "      <td>0.240387</td>\n",
       "      <td>0.757222</td>\n",
       "    </tr>\n",
       "    <tr>\n",
       "      <th>std</th>\n",
       "      <td>249.755371</td>\n",
       "      <td>14.771866</td>\n",
       "      <td>4.192781</td>\n",
       "      <td>2037.818523</td>\n",
       "      <td>1.438467e+04</td>\n",
       "      <td>5.145951</td>\n",
       "      <td>4.169304</td>\n",
       "      <td>1.129771</td>\n",
       "      <td>4.155179</td>\n",
       "      <td>1.115086</td>\n",
       "    </tr>\n",
       "    <tr>\n",
       "      <th>min</th>\n",
       "      <td>0.000000</td>\n",
       "      <td>0.000000</td>\n",
       "      <td>0.000000</td>\n",
       "      <td>0.000000</td>\n",
       "      <td>0.000000e+00</td>\n",
       "      <td>0.000000</td>\n",
       "      <td>0.000000</td>\n",
       "      <td>0.000000</td>\n",
       "      <td>0.000000</td>\n",
       "      <td>0.000000</td>\n",
       "    </tr>\n",
       "    <tr>\n",
       "      <th>25%</th>\n",
       "      <td>0.029867</td>\n",
       "      <td>41.000000</td>\n",
       "      <td>0.000000</td>\n",
       "      <td>0.175074</td>\n",
       "      <td>3.400000e+03</td>\n",
       "      <td>5.000000</td>\n",
       "      <td>0.000000</td>\n",
       "      <td>0.000000</td>\n",
       "      <td>0.000000</td>\n",
       "      <td>0.000000</td>\n",
       "    </tr>\n",
       "    <tr>\n",
       "      <th>50%</th>\n",
       "      <td>0.154181</td>\n",
       "      <td>52.000000</td>\n",
       "      <td>0.000000</td>\n",
       "      <td>0.366508</td>\n",
       "      <td>5.400000e+03</td>\n",
       "      <td>8.000000</td>\n",
       "      <td>0.000000</td>\n",
       "      <td>1.000000</td>\n",
       "      <td>0.000000</td>\n",
       "      <td>0.000000</td>\n",
       "    </tr>\n",
       "    <tr>\n",
       "      <th>75%</th>\n",
       "      <td>0.559046</td>\n",
       "      <td>63.000000</td>\n",
       "      <td>0.000000</td>\n",
       "      <td>0.868254</td>\n",
       "      <td>8.249000e+03</td>\n",
       "      <td>11.000000</td>\n",
       "      <td>0.000000</td>\n",
       "      <td>2.000000</td>\n",
       "      <td>0.000000</td>\n",
       "      <td>1.000000</td>\n",
       "    </tr>\n",
       "    <tr>\n",
       "      <th>max</th>\n",
       "      <td>50708.000000</td>\n",
       "      <td>109.000000</td>\n",
       "      <td>98.000000</td>\n",
       "      <td>329664.000000</td>\n",
       "      <td>3.008750e+06</td>\n",
       "      <td>58.000000</td>\n",
       "      <td>98.000000</td>\n",
       "      <td>54.000000</td>\n",
       "      <td>98.000000</td>\n",
       "      <td>20.000000</td>\n",
       "    </tr>\n",
       "  </tbody>\n",
       "</table>\n",
       "</div>"
      ],
      "text/plain": [
       "       revolvingutilizationofunsecuredlines            age  \\\n",
       "count                         150000.000000  150000.000000   \n",
       "mean                               6.048438      52.295207   \n",
       "std                              249.755371      14.771866   \n",
       "min                                0.000000       0.000000   \n",
       "25%                                0.029867      41.000000   \n",
       "50%                                0.154181      52.000000   \n",
       "75%                                0.559046      63.000000   \n",
       "max                            50708.000000     109.000000   \n",
       "\n",
       "       numberoftime3059dayspastduenotworse      debtratio  monthlyincome  \\\n",
       "count                        150000.000000  150000.000000   1.202690e+05   \n",
       "mean                              0.421033     353.005076   6.670221e+03   \n",
       "std                               4.192781    2037.818523   1.438467e+04   \n",
       "min                               0.000000       0.000000   0.000000e+00   \n",
       "25%                               0.000000       0.175074   3.400000e+03   \n",
       "50%                               0.000000       0.366508   5.400000e+03   \n",
       "75%                               0.000000       0.868254   8.249000e+03   \n",
       "max                              98.000000  329664.000000   3.008750e+06   \n",
       "\n",
       "       numberofopencreditlinesandloans  numberoftimes90dayslate  \\\n",
       "count                    150000.000000            150000.000000   \n",
       "mean                          8.452760                 0.265973   \n",
       "std                           5.145951                 4.169304   \n",
       "min                           0.000000                 0.000000   \n",
       "25%                           5.000000                 0.000000   \n",
       "50%                           8.000000                 0.000000   \n",
       "75%                          11.000000                 0.000000   \n",
       "max                          58.000000                98.000000   \n",
       "\n",
       "       numberrealestateloansorlines  numberoftime6089dayspastduenotworse  \\\n",
       "count                 150000.000000                        150000.000000   \n",
       "mean                       1.018240                             0.240387   \n",
       "std                        1.129771                             4.155179   \n",
       "min                        0.000000                             0.000000   \n",
       "25%                        0.000000                             0.000000   \n",
       "50%                        1.000000                             0.000000   \n",
       "75%                        2.000000                             0.000000   \n",
       "max                       54.000000                            98.000000   \n",
       "\n",
       "       numberofdependents  \n",
       "count       146076.000000  \n",
       "mean             0.757222  \n",
       "std              1.115086  \n",
       "min              0.000000  \n",
       "25%              0.000000  \n",
       "50%              0.000000  \n",
       "75%              1.000000  \n",
       "max             20.000000  "
      ]
     },
     "execution_count": 6,
     "metadata": {},
     "output_type": "execute_result"
    }
   ],
   "source": [
    "training_data[training_data.columns[1:]].describe()"
   ]
  },
  {
   "cell_type": "code",
   "execution_count": 7,
   "metadata": {
    "scrolled": true
   },
   "outputs": [
    {
     "data": {
      "text/plain": [
       "revolvingutilizationofunsecuredlines       0.154181\n",
       "age                                       52.000000\n",
       "numberoftime3059dayspastduenotworse        0.000000\n",
       "debtratio                                  0.366508\n",
       "monthlyincome                           5400.000000\n",
       "numberofopencreditlinesandloans            8.000000\n",
       "numberoftimes90dayslate                    0.000000\n",
       "numberrealestateloansorlines               1.000000\n",
       "numberoftime6089dayspastduenotworse        0.000000\n",
       "numberofdependents                         0.000000\n",
       "dtype: float64"
      ]
     },
     "execution_count": 7,
     "metadata": {},
     "output_type": "execute_result"
    }
   ],
   "source": [
    "training_data[training_data.columns[1:]].median()"
   ]
  },
  {
   "cell_type": "code",
   "execution_count": 8,
   "metadata": {
    "scrolled": true
   },
   "outputs": [
    {
     "data": {
      "text/plain": [
       "0    93.316\n",
       "1     6.684\n",
       "Name: seriousdlqin2yrs, dtype: float64"
      ]
     },
     "execution_count": 8,
     "metadata": {},
     "output_type": "execute_result"
    }
   ],
   "source": [
    "total_len = len(training_data['seriousdlqin2yrs'])\n",
    "percentage_labels = training_data['seriousdlqin2yrs'].value_counts()*100/total_len\n",
    "percentage_labels"
   ]
  },
  {
   "cell_type": "markdown",
   "metadata": {},
   "source": [
    "Here,\n",
    "\n",
    "'0' represents the probability of loan being repaid\n",
    "\n",
    "'1' represents the probabilty of loan payment being delayed "
   ]
  },
  {
   "cell_type": "code",
   "execution_count": 9,
   "metadata": {},
   "outputs": [
    {
     "data": {
      "image/png": "[encoded data removed]",
      "text/plain": [
       "<Figure size 432x288 with 1 Axes>"
      ]
     },
     "metadata": {},
     "output_type": "display_data"
    }
   ],
   "source": [
    "sns.set()\n",
    "sns.countplot(training_data['seriousdlqin2yrs']).set_title('Data Distribution')\n",
    "ax = plt.gca()\n",
    "for x in ax.patches:\n",
    "    height = x.get_height()\n",
    "    ax.text(x.get_x()+x.get_width()/2, x.get_height(),\n",
    "            '{:.2f}%'.format(100*(height/total_len)),fontsize=12, ha='center', va='bottom')\n",
    "sns.set(font_scale =1.5)\n",
    "ax.set_xlabel(\"Labels for seriousdlqin2yrs attribute\")\n",
    "ax.set_ylabel(\"Numbers of records\")\n",
    "plt.show()"
   ]
  },
  {
   "cell_type": "code",
   "execution_count": 10,
   "metadata": {},
   "outputs": [
    {
     "data": {
      "text/plain": [
       "seriousdlqin2yrs                            0\n",
       "revolvingutilizationofunsecuredlines        0\n",
       "age                                         0\n",
       "numberoftime3059dayspastduenotworse         0\n",
       "debtratio                                   0\n",
       "monthlyincome                           29731\n",
       "numberofopencreditlinesandloans             0\n",
       "numberoftimes90dayslate                     0\n",
       "numberrealestateloansorlines                0\n",
       "numberoftime6089dayspastduenotworse         0\n",
       "numberofdependents                       3924\n",
       "dtype: int64"
      ]
     },
     "execution_count": 10,
     "metadata": {},
     "output_type": "execute_result"
    }
   ],
   "source": [
    "training_data.isnull().sum()"
   ]
  },
  {
   "cell_type": "markdown",
   "metadata": {},
   "source": [
    "We need to deal with the missing values, if any,by replacing it with medain of the column values."
   ]
  },
  {
   "cell_type": "code",
   "execution_count": 11,
   "metadata": {},
   "outputs": [
    {
     "data": {
      "image/png": "[encoded data removed]",
      "text/plain": [
       "<Figure size 432x288 with 1 Axes>"
      ]
     },
     "metadata": {},
     "output_type": "display_data"
    }
   ],
   "source": [
    "x = training_data.columns\n",
    "y = training_data.isnull().sum()\n",
    "sns.set()\n",
    "sns.barplot(x,y)\n",
    "ax = plt.gca()\n",
    "for i in ax.patches:\n",
    "    height = i.get_height()\n",
    "    ax.text(i.get_x()+i.get_width()/2, height, int(height),fontsize=12, ha='center', va='bottom')\n",
    "    \n",
    "plt.xticks(rotation = 90)\n",
    "ax.set_xlabel('Data Atributes')\n",
    "ax.set_ylabel('No. of missing terms')\n",
    "plt.show()"
   ]
  },
  {
   "cell_type": "code",
   "execution_count": 12,
   "metadata": {},
   "outputs": [],
   "source": [
    "training_data.fillna((training_data.median()), inplace = True)"
   ]
  },
  {
   "cell_type": "markdown",
   "metadata": {},
   "source": [
    "The correlation between each feature or attribute with another can be found using the .corr() method. "
   ]
  },
  {
   "cell_type": "code",
   "execution_count": 13,
   "metadata": {},
   "outputs": [
    {
     "data": {
      "text/html": [
       "<div>\n",
       "<style scoped>\n",
       "    .dataframe tbody tr th:only-of-type {\n",
       "        vertical-align: middle;\n",
       "    }\n",
       "\n",
       "    .dataframe tbody tr th {\n",
       "        vertical-align: top;\n",
       "    }\n",
       "\n",
       "    .dataframe thead th {\n",
       "        text-align: right;\n",
       "    }\n",
       "</style>\n",
       "<table border=\"1\" class=\"dataframe\">\n",
       "  <thead>\n",
       "    <tr style=\"text-align: right;\">\n",
       "      <th></th>\n",
       "      <th>revolvingutilizationofunsecuredlines</th>\n",
       "      <th>age</th>\n",
       "      <th>numberoftime3059dayspastduenotworse</th>\n",
       "      <th>debtratio</th>\n",
       "      <th>monthlyincome</th>\n",
       "      <th>numberofopencreditlinesandloans</th>\n",
       "      <th>numberoftimes90dayslate</th>\n",
       "      <th>numberrealestateloansorlines</th>\n",
       "      <th>numberoftime6089dayspastduenotworse</th>\n",
       "      <th>numberofdependents</th>\n",
       "    </tr>\n",
       "  </thead>\n",
       "  <tbody>\n",
       "    <tr>\n",
       "      <th>revolvingutilizationofunsecuredlines</th>\n",
       "      <td>1.000000</td>\n",
       "      <td>-0.005898</td>\n",
       "      <td>-0.001314</td>\n",
       "      <td>0.003961</td>\n",
       "      <td>0.006513</td>\n",
       "      <td>-0.011281</td>\n",
       "      <td>-0.001061</td>\n",
       "      <td>0.006235</td>\n",
       "      <td>-0.001048</td>\n",
       "      <td>0.001193</td>\n",
       "    </tr>\n",
       "    <tr>\n",
       "      <th>age</th>\n",
       "      <td>-0.005898</td>\n",
       "      <td>1.000000</td>\n",
       "      <td>-0.062995</td>\n",
       "      <td>0.024188</td>\n",
       "      <td>0.027581</td>\n",
       "      <td>0.147705</td>\n",
       "      <td>-0.061005</td>\n",
       "      <td>0.033150</td>\n",
       "      <td>-0.057159</td>\n",
       "      <td>-0.215693</td>\n",
       "    </tr>\n",
       "    <tr>\n",
       "      <th>numberoftime3059dayspastduenotworse</th>\n",
       "      <td>-0.001314</td>\n",
       "      <td>-0.062995</td>\n",
       "      <td>1.000000</td>\n",
       "      <td>-0.006542</td>\n",
       "      <td>-0.008370</td>\n",
       "      <td>-0.055312</td>\n",
       "      <td>0.983603</td>\n",
       "      <td>-0.030565</td>\n",
       "      <td>0.987005</td>\n",
       "      <td>-0.004590</td>\n",
       "    </tr>\n",
       "    <tr>\n",
       "      <th>debtratio</th>\n",
       "      <td>0.003961</td>\n",
       "      <td>0.024188</td>\n",
       "      <td>-0.006542</td>\n",
       "      <td>1.000000</td>\n",
       "      <td>-0.018006</td>\n",
       "      <td>0.049565</td>\n",
       "      <td>-0.008320</td>\n",
       "      <td>0.120046</td>\n",
       "      <td>-0.007533</td>\n",
       "      <td>-0.044476</td>\n",
       "    </tr>\n",
       "    <tr>\n",
       "      <th>monthlyincome</th>\n",
       "      <td>0.006513</td>\n",
       "      <td>0.027581</td>\n",
       "      <td>-0.008370</td>\n",
       "      <td>-0.018006</td>\n",
       "      <td>1.000000</td>\n",
       "      <td>0.086949</td>\n",
       "      <td>-0.010500</td>\n",
       "      <td>0.116273</td>\n",
       "      <td>-0.009252</td>\n",
       "      <td>0.066314</td>\n",
       "    </tr>\n",
       "    <tr>\n",
       "      <th>numberofopencreditlinesandloans</th>\n",
       "      <td>-0.011281</td>\n",
       "      <td>0.147705</td>\n",
       "      <td>-0.055312</td>\n",
       "      <td>0.049565</td>\n",
       "      <td>0.086949</td>\n",
       "      <td>1.000000</td>\n",
       "      <td>-0.079984</td>\n",
       "      <td>0.433959</td>\n",
       "      <td>-0.071077</td>\n",
       "      <td>0.074026</td>\n",
       "    </tr>\n",
       "    <tr>\n",
       "      <th>numberoftimes90dayslate</th>\n",
       "      <td>-0.001061</td>\n",
       "      <td>-0.061005</td>\n",
       "      <td>0.983603</td>\n",
       "      <td>-0.008320</td>\n",
       "      <td>-0.010500</td>\n",
       "      <td>-0.079984</td>\n",
       "      <td>1.000000</td>\n",
       "      <td>-0.045205</td>\n",
       "      <td>0.992796</td>\n",
       "      <td>-0.011962</td>\n",
       "    </tr>\n",
       "    <tr>\n",
       "      <th>numberrealestateloansorlines</th>\n",
       "      <td>0.006235</td>\n",
       "      <td>0.033150</td>\n",
       "      <td>-0.030565</td>\n",
       "      <td>0.120046</td>\n",
       "      <td>0.116273</td>\n",
       "      <td>0.433959</td>\n",
       "      <td>-0.045205</td>\n",
       "      <td>1.000000</td>\n",
       "      <td>-0.039722</td>\n",
       "      <td>0.129399</td>\n",
       "    </tr>\n",
       "    <tr>\n",
       "      <th>numberoftime6089dayspastduenotworse</th>\n",
       "      <td>-0.001048</td>\n",
       "      <td>-0.057159</td>\n",
       "      <td>0.987005</td>\n",
       "      <td>-0.007533</td>\n",
       "      <td>-0.009252</td>\n",
       "      <td>-0.071077</td>\n",
       "      <td>0.992796</td>\n",
       "      <td>-0.039722</td>\n",
       "      <td>1.000000</td>\n",
       "      <td>-0.012678</td>\n",
       "    </tr>\n",
       "    <tr>\n",
       "      <th>numberofdependents</th>\n",
       "      <td>0.001193</td>\n",
       "      <td>-0.215693</td>\n",
       "      <td>-0.004590</td>\n",
       "      <td>-0.044476</td>\n",
       "      <td>0.066314</td>\n",
       "      <td>0.074026</td>\n",
       "      <td>-0.011962</td>\n",
       "      <td>0.129399</td>\n",
       "      <td>-0.012678</td>\n",
       "      <td>1.000000</td>\n",
       "    </tr>\n",
       "  </tbody>\n",
       "</table>\n",
       "</div>"
      ],
      "text/plain": [
       "                                      revolvingutilizationofunsecuredlines  \\\n",
       "revolvingutilizationofunsecuredlines                              1.000000   \n",
       "age                                                              -0.005898   \n",
       "numberoftime3059dayspastduenotworse                              -0.001314   \n",
       "debtratio                                                         0.003961   \n",
       "monthlyincome                                                     0.006513   \n",
       "numberofopencreditlinesandloans                                  -0.011281   \n",
       "numberoftimes90dayslate                                          -0.001061   \n",
       "numberrealestateloansorlines                                      0.006235   \n",
       "numberoftime6089dayspastduenotworse                              -0.001048   \n",
       "numberofdependents                                                0.001193   \n",
       "\n",
       "                                           age  \\\n",
       "revolvingutilizationofunsecuredlines -0.005898   \n",
       "age                                   1.000000   \n",
       "numberoftime3059dayspastduenotworse  -0.062995   \n",
       "debtratio                             0.024188   \n",
       "monthlyincome                         0.027581   \n",
       "numberofopencreditlinesandloans       0.147705   \n",
       "numberoftimes90dayslate              -0.061005   \n",
       "numberrealestateloansorlines          0.033150   \n",
       "numberoftime6089dayspastduenotworse  -0.057159   \n",
       "numberofdependents                   -0.215693   \n",
       "\n",
       "                                      numberoftime3059dayspastduenotworse  \\\n",
       "revolvingutilizationofunsecuredlines                            -0.001314   \n",
       "age                                                             -0.062995   \n",
       "numberoftime3059dayspastduenotworse                              1.000000   \n",
       "debtratio                                                       -0.006542   \n",
       "monthlyincome                                                   -0.008370   \n",
       "numberofopencreditlinesandloans                                 -0.055312   \n",
       "numberoftimes90dayslate                                          0.983603   \n",
       "numberrealestateloansorlines                                    -0.030565   \n",
       "numberoftime6089dayspastduenotworse                              0.987005   \n",
       "numberofdependents                                              -0.004590   \n",
       "\n",
       "                                      debtratio  monthlyincome  \\\n",
       "revolvingutilizationofunsecuredlines   0.003961       0.006513   \n",
       "age                                    0.024188       0.027581   \n",
       "numberoftime3059dayspastduenotworse   -0.006542      -0.008370   \n",
       "debtratio                              1.000000      -0.018006   \n",
       "monthlyincome                         -0.018006       1.000000   \n",
       "numberofopencreditlinesandloans        0.049565       0.086949   \n",
       "numberoftimes90dayslate               -0.008320      -0.010500   \n",
       "numberrealestateloansorlines           0.120046       0.116273   \n",
       "numberoftime6089dayspastduenotworse   -0.007533      -0.009252   \n",
       "numberofdependents                    -0.044476       0.066314   \n",
       "\n",
       "                                      numberofopencreditlinesandloans  \\\n",
       "revolvingutilizationofunsecuredlines                        -0.011281   \n",
       "age                                                          0.147705   \n",
       "numberoftime3059dayspastduenotworse                         -0.055312   \n",
       "debtratio                                                    0.049565   \n",
       "monthlyincome                                                0.086949   \n",
       "numberofopencreditlinesandloans                              1.000000   \n",
       "numberoftimes90dayslate                                     -0.079984   \n",
       "numberrealestateloansorlines                                 0.433959   \n",
       "numberoftime6089dayspastduenotworse                         -0.071077   \n",
       "numberofdependents                                           0.074026   \n",
       "\n",
       "                                      numberoftimes90dayslate  \\\n",
       "revolvingutilizationofunsecuredlines                -0.001061   \n",
       "age                                                 -0.061005   \n",
       "numberoftime3059dayspastduenotworse                  0.983603   \n",
       "debtratio                                           -0.008320   \n",
       "monthlyincome                                       -0.010500   \n",
       "numberofopencreditlinesandloans                     -0.079984   \n",
       "numberoftimes90dayslate                              1.000000   \n",
       "numberrealestateloansorlines                        -0.045205   \n",
       "numberoftime6089dayspastduenotworse                  0.992796   \n",
       "numberofdependents                                  -0.011962   \n",
       "\n",
       "                                      numberrealestateloansorlines  \\\n",
       "revolvingutilizationofunsecuredlines                      0.006235   \n",
       "age                                                       0.033150   \n",
       "numberoftime3059dayspastduenotworse                      -0.030565   \n",
       "debtratio                                                 0.120046   \n",
       "monthlyincome                                             0.116273   \n",
       "numberofopencreditlinesandloans                           0.433959   \n",
       "numberoftimes90dayslate                                  -0.045205   \n",
       "numberrealestateloansorlines                              1.000000   \n",
       "numberoftime6089dayspastduenotworse                      -0.039722   \n",
       "numberofdependents                                        0.129399   \n",
       "\n",
       "                                      numberoftime6089dayspastduenotworse  \\\n",
       "revolvingutilizationofunsecuredlines                            -0.001048   \n",
       "age                                                             -0.057159   \n",
       "numberoftime3059dayspastduenotworse                              0.987005   \n",
       "debtratio                                                       -0.007533   \n",
       "monthlyincome                                                   -0.009252   \n",
       "numberofopencreditlinesandloans                                 -0.071077   \n",
       "numberoftimes90dayslate                                          0.992796   \n",
       "numberrealestateloansorlines                                    -0.039722   \n",
       "numberoftime6089dayspastduenotworse                              1.000000   \n",
       "numberofdependents                                              -0.012678   \n",
       "\n",
       "                                      numberofdependents  \n",
       "revolvingutilizationofunsecuredlines            0.001193  \n",
       "age                                            -0.215693  \n",
       "numberoftime3059dayspastduenotworse            -0.004590  \n",
       "debtratio                                      -0.044476  \n",
       "monthlyincome                                   0.066314  \n",
       "numberofopencreditlinesandloans                 0.074026  \n",
       "numberoftimes90dayslate                        -0.011962  \n",
       "numberrealestateloansorlines                    0.129399  \n",
       "numberoftime6089dayspastduenotworse            -0.012678  \n",
       "numberofdependents                              1.000000  "
      ]
     },
     "execution_count": 13,
     "metadata": {},
     "output_type": "execute_result"
    }
   ],
   "source": [
    "training_data[training_data.columns[1:]].corr()"
   ]
  },
  {
   "cell_type": "code",
   "execution_count": 14,
   "metadata": {},
   "outputs": [
    {
     "data": {
      "image/png": "[encoded data removed]",
      "text/plain": [
       "<Figure size 432x288 with 2 Axes>"
      ]
     },
     "metadata": {},
     "output_type": "display_data"
    }
   ],
   "source": [
    "sns.heatmap(training_data[training_data.columns[1:]].corr(),annot=True,fmt='.1f',\n",
    "            cmap=(sns.cubehelix_palette()))\n",
    "plt.show()"
   ]
  },
  {
   "cell_type": "markdown",
   "metadata": {},
   "source": [
    "From the .describe() method we can see that the maximum values of each feature is very much higher than the mean or median values indicating outliers.\n",
    "A Data point can be classified as an outlier based on various statistical properties. Here are a few methods:\n",
    "- Percentile based Outlier Detection\n",
    "- Median based Outlier Detection\n",
    "- Standard Deviation based Outlier Detection"
   ]
  },
  {
   "cell_type": "code",
   "execution_count": 15,
   "metadata": {},
   "outputs": [],
   "source": [
    "def percentile_based_outlier(data,threshold = 95):\n",
    "    tail= (100-threshold)/2\n",
    "    minval, maxval = np.percentile(data, [tail, 100-tail])\n",
    "    \n",
    "    return ((data < minval) | (data > maxval))"
   ]
  },
  {
   "cell_type": "code",
   "execution_count": 16,
   "metadata": {
    "collapsed": true
   },
   "outputs": [
    {
     "data": {
      "text/plain": [
       "0         False\n",
       "1         False\n",
       "2         False\n",
       "3         False\n",
       "4         False\n",
       "5         False\n",
       "6         False\n",
       "7         False\n",
       "8         False\n",
       "9         False\n",
       "10        False\n",
       "11        False\n",
       "12        False\n",
       "13        False\n",
       "14        False\n",
       "15        False\n",
       "16        False\n",
       "17        False\n",
       "18        False\n",
       "19        False\n",
       "20        False\n",
       "21        False\n",
       "22        False\n",
       "23        False\n",
       "24        False\n",
       "25        False\n",
       "26        False\n",
       "27        False\n",
       "28        False\n",
       "29        False\n",
       "          ...  \n",
       "149970    False\n",
       "149971    False\n",
       "149972    False\n",
       "149973     True\n",
       "149974    False\n",
       "149975    False\n",
       "149976    False\n",
       "149977    False\n",
       "149978    False\n",
       "149979    False\n",
       "149980    False\n",
       "149981    False\n",
       "149982    False\n",
       "149983    False\n",
       "149984    False\n",
       "149985    False\n",
       "149986    False\n",
       "149987    False\n",
       "149988    False\n",
       "149989    False\n",
       "149990    False\n",
       "149991    False\n",
       "149992    False\n",
       "149993    False\n",
       "149994    False\n",
       "149995    False\n",
       "149996    False\n",
       "149997    False\n",
       "149998    False\n",
       "149999    False\n",
       "Name: revolvingutilizationofunsecuredlines, Length: 150000, dtype: bool"
      ]
     },
     "execution_count": 16,
     "metadata": {},
     "output_type": "execute_result"
    }
   ],
   "source": [
    "percentile_based_outlier(data=training_data.revolvingutilizationofunsecuredlines)"
   ]
  },
  {
   "cell_type": "code",
   "execution_count": 17,
   "metadata": {},
   "outputs": [],
   "source": [
    "def median_based_outlier(data, threshold=3.5):\n",
    "    y_median = np.median(data)\n",
    "    y_median_absolute_deviation = np.median([np.abs(y - y_median) for y in data])\n",
    "    modified_z_scores = [0.6745 * (y - y_median) / y_median_absolute_deviation for y in data]\n",
    "\n",
    "    return np.abs(modified_z_scores) > threshold"
   ]
  },
  {
   "cell_type": "code",
   "execution_count": 18,
   "metadata": {},
   "outputs": [
    {
     "data": {
      "text/plain": [
       "array([False, False, False, ..., False, False, False])"
      ]
     },
     "execution_count": 18,
     "metadata": {},
     "output_type": "execute_result"
    }
   ],
   "source": [
    "median_based_outlier(data=training_data.age)"
   ]
  },
  {
   "cell_type": "code",
   "execution_count": 19,
   "metadata": {},
   "outputs": [],
   "source": [
    "def stand_div_based_outlier(data, threshold = 3):\n",
    "    std = data.std()\n",
    "    mean = data.mean()\n",
    "    isoutlier = []\n",
    "    for point in data:\n",
    "        if point/std > threshold:\n",
    "            isoutlier.append(True)\n",
    "        else:\n",
    "            isoutlier.append(False)\n",
    "    return isoutlier"
   ]
  },
  {
   "cell_type": "code",
   "execution_count": 20,
   "metadata": {},
   "outputs": [],
   "source": [
    "def plotoutlier(data):\n",
    "    fig,axes = plt.subplots(nrows =3)\n",
    "    for ax, func in zip(axes,[percentile_based_outlier, median_based_outlier, stand_div_based_outlier]):\n",
    "        sns.distplot(data,ax=ax,rug=True,hist=False)\n",
    "        outliers = data[func(data)]\n",
    "        ax.plot(outliers, np.zeros_like(outliers),'ro',clip_on=False)\n",
    "        \n",
    "    kwargs = dict(y=0.95,x=0.05,ha='left',va='top',size=20)\n",
    "    axes[0].set_title('Percentile-based Outliers', **kwargs)\n",
    "    axes[1].set_title('MAD-based Outliers', **kwargs)\n",
    "    axes[2].set_title('STD-based Outliers', **kwargs)\n",
    "    \n",
    "    fig.suptitle('Comparing Outlier Tests with n={}'.format(len(data)), size=20)\n",
    "    fig = plt.gcf()\n",
    "    fig.set_size_inches(15,10)\n",
    "    plt.show()"
   ]
  },
  {
   "cell_type": "code",
   "execution_count": 21,
   "metadata": {
    "scrolled": false
   },
   "outputs": [
    {
     "name": "stderr",
     "output_type": "stream",
     "text": [
      "C:\\Users\\Bhavya\\Anaconda3\\lib\\site-packages\\scipy\\stats\\stats.py:1713: FutureWarning: Using a non-tuple sequence for multidimensional indexing is deprecated; use `arr[tuple(seq)]` instead of `arr[seq]`. In the future this will be interpreted as an array index, `arr[np.array(seq)]`, which will result either in an error or a different result.\n",
      "  return np.add.reduce(sorted[indexer] * weights, axis=axis) / sumval\n"
     ]
    },
    {
     "data": {
      "image/png": "[encoded data removed]",
      "text/plain": [
       "<Figure size 1080x720 with 3 Axes>"
      ]
     },
     "metadata": {},
     "output_type": "display_data"
    }
   ],
   "source": [
    "plotoutlier(training_data.revolvingutilizationofunsecuredlines.sample(5000))"
   ]
  },
  {
   "cell_type": "markdown",
   "metadata": {},
   "source": [
    "A value or threshold for an outlier definition can be decided bu looking at the counter of each value in the feature."
   ]
  },
  {
   "cell_type": "markdown",
   "metadata": {},
   "source": [
    "**Dealing with outliers: training_data.revolvingutilizationofunsecuredlines**"
   ]
  },
  {
   "cell_type": "code",
   "execution_count": 22,
   "metadata": {
    "collapsed": true
   },
   "outputs": [
    {
     "data": {
      "text/plain": [
       "Counter({0.7661266090000001: 1,\n",
       "         0.9571510190000001: 1,\n",
       "         0.65818014: 1,\n",
       "         0.23380977600000002: 1,\n",
       "         0.9072394: 1,\n",
       "         0.21317868199999998: 1,\n",
       "         0.305682465: 1,\n",
       "         0.754463648: 1,\n",
       "         0.116950644: 1,\n",
       "         0.189169052: 1,\n",
       "         0.644225962: 1,\n",
       "         0.01879812: 4,\n",
       "         0.010351856999999999: 1,\n",
       "         0.964672555: 1,\n",
       "         0.019656581: 1,\n",
       "         0.548458062: 1,\n",
       "         0.061086117999999995: 1,\n",
       "         0.166284079: 1,\n",
       "         0.22181277100000002: 1,\n",
       "         0.602794411: 2,\n",
       "         0.20092338199999998: 1,\n",
       "         0.025655677: 1,\n",
       "         0.9999998999999999: 10256,\n",
       "         0.075426584: 1,\n",
       "         0.04656027: 1,\n",
       "         0.392248482: 1,\n",
       "         0.052436094: 1,\n",
       "         0.034421473: 1,\n",
       "         0.45251582799999995: 1,\n",
       "         0.39299458600000003: 1,\n",
       "         0.704073982: 1,\n",
       "         0.083418009: 1,\n",
       "         0.18686855600000002: 1,\n",
       "         0.6933296809999999: 1,\n",
       "         0.0: 10878,\n",
       "         0.881836362: 1,\n",
       "         0.363636364: 2,\n",
       "         0.304490668: 1,\n",
       "         0.71998531: 1,\n",
       "         0.07289757: 1,\n",
       "         0.46905684200000003: 1,\n",
       "         0.718705378: 1,\n",
       "         0.368875933: 1,\n",
       "         0.000602723: 1,\n",
       "         0.061440132: 1,\n",
       "         0.140110634: 1,\n",
       "         0.834048027: 1,\n",
       "         7.96e-05: 1,\n",
       "         0.818977517: 1,\n",
       "         0.728150491: 1,\n",
       "         0.028562367: 1,\n",
       "         0.9920159679999999: 4,\n",
       "         0.070853769: 1,\n",
       "         0.454971915: 1,\n",
       "         0.401199782: 1,\n",
       "         0.5411088039999999: 1,\n",
       "         0.655569945: 1,\n",
       "         0.651603452: 1,\n",
       "         0.027399502000000003: 1,\n",
       "         0.10115582099999999: 1,\n",
       "         0.009788861999999999: 1,\n",
       "         0.337520702: 1,\n",
       "         0.750873672: 1,\n",
       "         0.006799093000000001: 1,\n",
       "         0.0042640790000000005: 1,\n",
       "         0.26948375: 1,\n",
       "         0.265898391: 1,\n",
       "         0.142013011: 1,\n",
       "         0.827708197: 1,\n",
       "         0.059668871: 1,\n",
       "         0.13306279: 1,\n",
       "         0.234218112: 1,\n",
       "         0.12229593300000001: 1,\n",
       "         0.46037631700000003: 1,\n",
       "         0.335558577: 1,\n",
       "         0.270522569: 1,\n",
       "         0.183316667: 1,\n",
       "         0.074861676: 1,\n",
       "         0.017258976999999998: 1,\n",
       "         0.054497069: 1,\n",
       "         0.029164236: 1,\n",
       "         0.360509632: 1,\n",
       "         0.0037496879999999997: 1,\n",
       "         0.734477501: 1,\n",
       "         0.08056416799999999: 1,\n",
       "         0.039387786: 1,\n",
       "         0.023767432999999998: 1,\n",
       "         0.784835658: 1,\n",
       "         0.888822236: 2,\n",
       "         0.791173628: 1,\n",
       "         0.24535301: 1,\n",
       "         0.542242704: 1,\n",
       "         0.010531378999999999: 1,\n",
       "         0.363199686: 1,\n",
       "         0.032617977: 1,\n",
       "         0.013024673999999998: 2,\n",
       "         0.019387778999999997: 1,\n",
       "         0.634485057: 1,\n",
       "         0.888008615: 1,\n",
       "         0.0031088490000000003: 1,\n",
       "         0.11483094099999999: 1,\n",
       "         0.018886792: 1,\n",
       "         0.6354151570000001: 1,\n",
       "         0.041257909: 1,\n",
       "         0.096737158: 1,\n",
       "         0.31844615: 1,\n",
       "         0.18698753399999998: 1,\n",
       "         0.006541851: 1,\n",
       "         0.180972181: 1,\n",
       "         0.00750765: 1,\n",
       "         0.06790706: 1,\n",
       "         0.033461782: 1,\n",
       "         0.0075205919999999996: 1,\n",
       "         0.015271802: 1,\n",
       "         0.51712072: 1,\n",
       "         0.31797579600000003: 1,\n",
       "         0.29759464199999996: 1,\n",
       "         0.444837661: 1,\n",
       "         0.277956679: 1,\n",
       "         0.003722015: 1,\n",
       "         0.151912549: 1,\n",
       "         0.17572759300000002: 1,\n",
       "         0.011498563: 1,\n",
       "         0.163037489: 1,\n",
       "         0.047311582000000005: 1,\n",
       "         0.083880003: 1,\n",
       "         0.08947834800000001: 1,\n",
       "         0.773519223: 1,\n",
       "         0.093962275: 1,\n",
       "         0.21955042: 1,\n",
       "         0.147996253: 1,\n",
       "         0.5765185589999999: 1,\n",
       "         0.24387202100000002: 1,\n",
       "         0.36248381799999996: 1,\n",
       "         0.116676791: 1,\n",
       "         0.496911825: 1,\n",
       "         0.130902106: 1,\n",
       "         0.54699881: 1,\n",
       "         0.072277109: 1,\n",
       "         0.175932019: 1,\n",
       "         0.050789842: 1,\n",
       "         0.21286031: 1,\n",
       "         0.012682366: 1,\n",
       "         0.121557062: 1,\n",
       "         0.040795358: 1,\n",
       "         0.147712223: 1,\n",
       "         0.07077191099999999: 1,\n",
       "         1.046279103: 1,\n",
       "         0.323719804: 1,\n",
       "         0.36459777: 1,\n",
       "         0.637736406: 1,\n",
       "         0.081379827: 1,\n",
       "         0.020966389: 1,\n",
       "         0.170103002: 1,\n",
       "         0.7718456309999999: 1,\n",
       "         0.05538241: 1,\n",
       "         0.16653274: 1,\n",
       "         0.008632035: 1,\n",
       "         0.13527952: 1,\n",
       "         0.16757138900000002: 1,\n",
       "         0.068335151: 1,\n",
       "         0.946963874: 1,\n",
       "         0.405183973: 1,\n",
       "         0.055549312999999996: 1,\n",
       "         0.676195456: 1,\n",
       "         0.18498678699999999: 1,\n",
       "         0.08533829300000001: 1,\n",
       "         0.7864854059999999: 1,\n",
       "         0.0112096: 1,\n",
       "         0.03833451: 1,\n",
       "         0.714980139: 1,\n",
       "         0.043032042: 1,\n",
       "         1.095083357: 1,\n",
       "         0.101430135: 1,\n",
       "         0.025892468999999998: 1,\n",
       "         0.7621585609999999: 1,\n",
       "         0.231692268: 1,\n",
       "         0.114869499: 1,\n",
       "         0.035489848: 1,\n",
       "         0.045423864: 1,\n",
       "         0.311954668: 1,\n",
       "         0.07873891599999999: 1,\n",
       "         0.137609462: 1,\n",
       "         0.030173038: 2,\n",
       "         0.021978375: 1,\n",
       "         0.443696851: 1,\n",
       "         0.007506793: 1,\n",
       "         0.046640327999999995: 1,\n",
       "         0.29236594899999996: 1,\n",
       "         0.20808276: 1,\n",
       "         0.013500824: 1,\n",
       "         0.655316473: 1,\n",
       "         0.028113957000000002: 1,\n",
       "         0.22269620699999998: 1,\n",
       "         0.593985244: 1,\n",
       "         0.017508178: 1,\n",
       "         0.611865678: 1,\n",
       "         0.333060631: 1,\n",
       "         0.009025178: 1,\n",
       "         0.260271523: 1,\n",
       "         0.455950788: 1,\n",
       "         0.080288098: 1,\n",
       "         1.9534883719999998: 1,\n",
       "         0.181557324: 1,\n",
       "         0.147123525: 2,\n",
       "         0.025601772000000002: 1,\n",
       "         0.196372799: 1,\n",
       "         0.08394524199999999: 1,\n",
       "         0.034833091000000004: 1,\n",
       "         0.787522133: 1,\n",
       "         0.125429152: 1,\n",
       "         0.06037487: 1,\n",
       "         0.295928252: 1,\n",
       "         0.973339258: 1,\n",
       "         0.002856735: 1,\n",
       "         0.8775648970000001: 1,\n",
       "         0.053431552: 1,\n",
       "         0.732660667: 1,\n",
       "         0.08422045800000001: 1,\n",
       "         0.114561798: 1,\n",
       "         0.012151003: 1,\n",
       "         0.08131073700000001: 1,\n",
       "         0.09811305: 1,\n",
       "         1.048210842: 1,\n",
       "         0.011883886000000001: 1,\n",
       "         0.75264947: 1,\n",
       "         0.112321289: 1,\n",
       "         0.6343270560000001: 1,\n",
       "         0.15576324: 1,\n",
       "         0.09061488699999999: 1,\n",
       "         0.034645112: 1,\n",
       "         0.027446382999999998: 1,\n",
       "         0.41239862200000005: 1,\n",
       "         0.024670782000000002: 1,\n",
       "         0.046710960999999995: 1,\n",
       "         0.976531824: 1,\n",
       "         0.007982621: 1,\n",
       "         0.267541336: 1,\n",
       "         0.019779326: 1,\n",
       "         0.010402205: 1,\n",
       "         0.029816467000000003: 1,\n",
       "         0.181713732: 1,\n",
       "         0.051368557: 1,\n",
       "         0.29264536: 1,\n",
       "         0.22082371899999997: 1,\n",
       "         0.008099838: 1,\n",
       "         0.006099797: 2,\n",
       "         0.909538698: 1,\n",
       "         0.941072508: 1,\n",
       "         0.991667222: 1,\n",
       "         0.6914884179999999: 1,\n",
       "         0.11285525800000001: 1,\n",
       "         0.260971034: 1,\n",
       "         0.048244493: 1,\n",
       "         0.074256375: 1,\n",
       "         0.14487840800000001: 1,\n",
       "         0.19100193199999999: 1,\n",
       "         0.21938287899999998: 1,\n",
       "         0.679813777: 3,\n",
       "         2340.0: 1,\n",
       "         0.371875401: 1,\n",
       "         0.025856407999999997: 1,\n",
       "         0.547887778: 1,\n",
       "         0.271668778: 1,\n",
       "         0.085152475: 1,\n",
       "         0.897203427: 1,\n",
       "         0.25889775: 1,\n",
       "         0.035940506000000004: 1,\n",
       "         0.465238835: 1,\n",
       "         0.8654230509999999: 1,\n",
       "         0.6964116709999999: 1,\n",
       "         0.5444976579999999: 1,\n",
       "         0.081238383: 1,\n",
       "         0.9487628090000001: 1,\n",
       "         0.016598893: 1,\n",
       "         0.063329564: 1,\n",
       "         0.093638481: 1,\n",
       "         0.730271957: 1,\n",
       "         0.42637114200000004: 1,\n",
       "         0.948978489: 1,\n",
       "         1.00264667: 1,\n",
       "         0.0164781: 2,\n",
       "         0.042606843: 1,\n",
       "         0.022890604: 1,\n",
       "         0.283821988: 1,\n",
       "         0.319779462: 1,\n",
       "         0.155240525: 1,\n",
       "         0.013115183: 1,\n",
       "         0.067259209: 1,\n",
       "         0.284236153: 1,\n",
       "         0.727560021: 1,\n",
       "         0.6877790970000001: 1,\n",
       "         0.033708851: 1,\n",
       "         0.03719769: 1,\n",
       "         0.053589282: 2,\n",
       "         0.100773109: 1,\n",
       "         0.399946674: 1,\n",
       "         0.052653171: 1,\n",
       "         0.072318616: 1,\n",
       "         0.203959597: 1,\n",
       "         0.880370887: 1,\n",
       "         0.429246267: 1,\n",
       "         0.049529205: 1,\n",
       "         0.36090757100000004: 1,\n",
       "         0.335737457: 1,\n",
       "         0.635720859: 1,\n",
       "         0.507972665: 1,\n",
       "         0.24584166600000001: 1,\n",
       "         0.953343701: 1,\n",
       "         0.11885383699999999: 1,\n",
       "         0.630073985: 1,\n",
       "         0.028423247000000002: 1,\n",
       "         0.143427862: 1,\n",
       "         0.186682782: 1,\n",
       "         0.496388581: 1,\n",
       "         0.457526639: 1,\n",
       "         0.7282181190000001: 1,\n",
       "         0.947264856: 1,\n",
       "         0.013916922: 1,\n",
       "         0.066347297: 1,\n",
       "         0.502958087: 1,\n",
       "         1.047495906: 1,\n",
       "         0.012586354: 1,\n",
       "         0.543445655: 1,\n",
       "         0.026580302000000004: 1,\n",
       "         0.082317351: 1,\n",
       "         0.292541492: 1,\n",
       "         0.024240472000000002: 1,\n",
       "         0.047650102: 1,\n",
       "         0.7391464879999999: 1,\n",
       "         0.186890655: 1,\n",
       "         0.007501936999999999: 1,\n",
       "         0.522314625: 1,\n",
       "         0.571604587: 1,\n",
       "         0.903231566: 1,\n",
       "         0.017043518: 1,\n",
       "         0.060733395999999995: 1,\n",
       "         0.0005826480000000001: 1,\n",
       "         0.0038946859999999996: 1,\n",
       "         0.250008365: 1,\n",
       "         0.466334165: 1,\n",
       "         0.114588541: 1,\n",
       "         0.26790561399999996: 1,\n",
       "         0.029694361000000002: 1,\n",
       "         0.305246317: 1,\n",
       "         0.000685675: 2,\n",
       "         0.702493864: 1,\n",
       "         0.7424360409999999: 1,\n",
       "         0.8024171790000001: 1,\n",
       "         0.134191514: 1,\n",
       "         0.002556199: 1,\n",
       "         0.088845558: 1,\n",
       "         0.203947961: 1,\n",
       "         0.006666096999999999: 1,\n",
       "         0.014049648999999999: 2,\n",
       "         0.368866624: 1,\n",
       "         0.054553316: 1,\n",
       "         0.17948776600000002: 1,\n",
       "         0.026885902000000003: 1,\n",
       "         0.265705207: 1,\n",
       "         0.011847989: 1,\n",
       "         0.07083751: 1,\n",
       "         0.030996074: 1,\n",
       "         0.144914011: 1,\n",
       "         0.353017659: 1,\n",
       "         0.020074662: 1,\n",
       "         0.032769199: 1,\n",
       "         0.733885463: 1,\n",
       "         0.063514422: 1,\n",
       "         0.03157211: 1,\n",
       "         0.991502124: 1,\n",
       "         0.39770298200000004: 1,\n",
       "         0.971352432: 3,\n",
       "         0.003851709: 1,\n",
       "         0.010887967: 1,\n",
       "         0.686083014: 1,\n",
       "         0.212464485: 1,\n",
       "         0.006956358: 1,\n",
       "         0.073251754: 1,\n",
       "         0.431904058: 1,\n",
       "         0.006999563: 1,\n",
       "         0.014310431: 1,\n",
       "         0.026944485: 1,\n",
       "         0.297094601: 1,\n",
       "         0.31606476699999997: 1,\n",
       "         0.922670104: 1,\n",
       "         0.051077957: 1,\n",
       "         0.319190816: 1,\n",
       "         0.008737352: 1,\n",
       "         0.24367426600000003: 1,\n",
       "         0.028910707: 1,\n",
       "         0.03423863: 1,\n",
       "         0.50329934: 1,\n",
       "         0.799981673: 1,\n",
       "         0.069987933: 1,\n",
       "         0.067901335: 1,\n",
       "         0.7406351609999999: 1,\n",
       "         0.023382944: 1,\n",
       "         0.003625197: 1,\n",
       "         0.09228761699999999: 1,\n",
       "         0.057867667000000005: 1,\n",
       "         0.07807727: 1,\n",
       "         0.20194364199999998: 1,\n",
       "         0.077958915: 1,\n",
       "         0.20567648600000002: 1,\n",
       "         0.57985084: 1,\n",
       "         0.073393457: 1,\n",
       "         0.07917821900000001: 1,\n",
       "         0.073123172: 1,\n",
       "         0.745173448: 1,\n",
       "         0.10088331: 1,\n",
       "         0.34766523299999996: 1,\n",
       "         0.102031508: 1,\n",
       "         0.354125994: 1,\n",
       "         0.029643294: 1,\n",
       "         0.540204354: 1,\n",
       "         0.640927271: 1,\n",
       "         0.058271403: 1,\n",
       "         0.719305764: 1,\n",
       "         0.045017363: 1,\n",
       "         0.35592819: 1,\n",
       "         0.57762185: 1,\n",
       "         0.015054291000000001: 1,\n",
       "         0.320593837: 1,\n",
       "         0.047587303: 1,\n",
       "         0.173428408: 1,\n",
       "         0.401789055: 1,\n",
       "         0.301152442: 1,\n",
       "         0.067512585: 1,\n",
       "         0.993335555: 3,\n",
       "         0.138793584: 1,\n",
       "         0.19358480100000003: 1,\n",
       "         0.001124859: 2,\n",
       "         0.485558448: 1,\n",
       "         0.979521555: 1,\n",
       "         0.090641506: 1,\n",
       "         0.38480769: 1,\n",
       "         0.183676155: 1,\n",
       "         0.018124667: 1,\n",
       "         0.290320472: 1,\n",
       "         0.052161270999999995: 1,\n",
       "         0.412657703: 1,\n",
       "         0.091201293: 1,\n",
       "         0.500234532: 1,\n",
       "         0.913140498: 1,\n",
       "         0.056390008: 1,\n",
       "         0.611388611: 1,\n",
       "         0.065630892: 1,\n",
       "         0.499666889: 2,\n",
       "         0.28947053899999997: 1,\n",
       "         0.8141545109999999: 1,\n",
       "         0.016406971: 1,\n",
       "         0.078497383: 2,\n",
       "         0.029692431000000002: 1,\n",
       "         0.01255887: 1,\n",
       "         0.062093267: 1,\n",
       "         0.074201053: 1,\n",
       "         0.551889862: 1,\n",
       "         0.640058527: 1,\n",
       "         0.581815774: 1,\n",
       "         0.312068793: 1,\n",
       "         0.26637117899999996: 1,\n",
       "         0.040186458: 1,\n",
       "         0.749602291: 1,\n",
       "         0.955545894: 1,\n",
       "         0.08663540900000001: 1,\n",
       "         0.212768452: 1,\n",
       "         0.9543957000000001: 1,\n",
       "         0.188256123: 1,\n",
       "         1.2458471759999998: 1,\n",
       "         0.014049886999999999: 1,\n",
       "         0.329609837: 1,\n",
       "         0.484099985: 1,\n",
       "         0.035113768: 1,\n",
       "         0.084826988: 1,\n",
       "         0.152250785: 1,\n",
       "         0.21288560000000004: 1,\n",
       "         0.576284725: 1,\n",
       "         0.40821598200000003: 1,\n",
       "         0.10680013: 1,\n",
       "         0.004552998: 1,\n",
       "         0.277436128: 1,\n",
       "         0.285342534: 1,\n",
       "         0.162077194: 1,\n",
       "         0.57073821: 1,\n",
       "         0.622524722: 1,\n",
       "         0.113165062: 1,\n",
       "         0.732711215: 1,\n",
       "         0.486651335: 1,\n",
       "         0.584844623: 1,\n",
       "         0.8754406579999999: 1,\n",
       "         0.043861767: 1,\n",
       "         0.03929607: 2,\n",
       "         0.339503567: 1,\n",
       "         0.064835195: 1,\n",
       "         0.008684579: 1,\n",
       "         0.5035879870000001: 1,\n",
       "         0.000309046: 1,\n",
       "         0.697812691: 1,\n",
       "         0.650432993: 1,\n",
       "         0.30248201: 1,\n",
       "         0.159116246: 1,\n",
       "         0.768537191: 1,\n",
       "         0.155644438: 2,\n",
       "         0.8362940109999999: 1,\n",
       "         0.29304181100000004: 1,\n",
       "         0.271898248: 1,\n",
       "         0.29195624800000003: 1,\n",
       "         0.106531463: 1,\n",
       "         0.25081831600000004: 1,\n",
       "         0.18157994600000002: 1,\n",
       "         0.002964536: 1,\n",
       "         0.048911120999999995: 1,\n",
       "         0.517045364: 1,\n",
       "         0.024100447: 1,\n",
       "         0.122976319: 1,\n",
       "         0.387065977: 1,\n",
       "         0.021741679: 1,\n",
       "         0.26925748899999996: 1,\n",
       "         0.9963016509999999: 1,\n",
       "         0.019153961: 1,\n",
       "         0.008665510999999999: 1,\n",
       "         0.15574221300000002: 1,\n",
       "         0.733914381: 1,\n",
       "         0.210442588: 1,\n",
       "         0.09563478800000001: 1,\n",
       "         0.12480137599999999: 1,\n",
       "         0.016995185: 1,\n",
       "         0.964038058: 1,\n",
       "         0.211206477: 1,\n",
       "         0.184476515: 1,\n",
       "         0.086605363: 2,\n",
       "         0.06906978400000001: 1,\n",
       "         0.187090597: 1,\n",
       "         0.732202177: 1,\n",
       "         0.392141112: 1,\n",
       "         0.063688754: 1,\n",
       "         0.6169823720000001: 1,\n",
       "         0.28854138100000004: 1,\n",
       "         0.22110680100000002: 1,\n",
       "         0.193612774: 2,\n",
       "         0.014441183: 1,\n",
       "         0.531963331: 1,\n",
       "         0.346960384: 1,\n",
       "         0.024305835: 1,\n",
       "         0.65854007: 1,\n",
       "         0.10469376300000001: 1,\n",
       "         0.046740048: 1,\n",
       "         0.057887851: 1,\n",
       "         0.883182488: 1,\n",
       "         0.005326455: 1,\n",
       "         0.088809584: 1,\n",
       "         0.021319787000000003: 1,\n",
       "         0.281880372: 1,\n",
       "         0.063062463: 1,\n",
       "         0.402345742: 1,\n",
       "         0.143316879: 1,\n",
       "         0.334295645: 1,\n",
       "         0.010350125: 1,\n",
       "         0.336596148: 1,\n",
       "         0.044842922: 1,\n",
       "         0.007712359: 1,\n",
       "         1.011332794: 1,\n",
       "         0.06677885900000001: 1,\n",
       "         0.314685703: 1,\n",
       "         0.149314411: 1,\n",
       "         0.037849716: 1,\n",
       "         0.281115558: 1,\n",
       "         0.005196165: 1,\n",
       "         0.133688867: 1,\n",
       "         0.321457844: 1,\n",
       "         0.8271510129999999: 1,\n",
       "         0.442798278: 1,\n",
       "         0.025082109: 1,\n",
       "         0.578849363: 1,\n",
       "         0.020703507: 1,\n",
       "         1.2487512490000001: 1,\n",
       "         0.569824212: 1,\n",
       "         0.914867126: 1,\n",
       "         0.0382584: 1,\n",
       "         0.964561473: 1,\n",
       "         0.02731285: 1,\n",
       "         0.035605591: 1,\n",
       "         0.004595129: 1,\n",
       "         0.042534080999999994: 1,\n",
       "         0.12136536: 1,\n",
       "         0.180162143: 1,\n",
       "         0.054940099000000006: 1,\n",
       "         0.099724251: 1,\n",
       "         0.030513202000000003: 1,\n",
       "         0.175434349: 1,\n",
       "         0.019883105: 1,\n",
       "         0.9907644259999999: 1,\n",
       "         0.38608401200000003: 1,\n",
       "         0.008287427: 1,\n",
       "         0.058687792999999995: 1,\n",
       "         0.091106715: 1,\n",
       "         0.023114332999999997: 1,\n",
       "         0.083426677: 1,\n",
       "         0.529411765: 1,\n",
       "         0.192722211: 1,\n",
       "         0.359412083: 1,\n",
       "         0.106517279: 1,\n",
       "         0.07953842: 1,\n",
       "         2066.0: 1,\n",
       "         0.01239876: 2,\n",
       "         0.003938695: 1,\n",
       "         0.520418652: 1,\n",
       "         0.160899231: 1,\n",
       "         0.25250536100000004: 1,\n",
       "         0.035670256000000004: 1,\n",
       "         0.046747539000000005: 1,\n",
       "         0.009639594: 1,\n",
       "         0.986400389: 1,\n",
       "         0.092392056: 1,\n",
       "         0.001019592: 1,\n",
       "         0.045516720999999996: 1,\n",
       "         0.245744673: 1,\n",
       "         0.292159285: 1,\n",
       "         0.016142473: 1,\n",
       "         0.7592865809999999: 1,\n",
       "         0.189734189: 1,\n",
       "         0.049082484: 1,\n",
       "         1.163184115: 1,\n",
       "         0.238016933: 1,\n",
       "         0.410946459: 1,\n",
       "         0.47653563299999996: 1,\n",
       "         0.37504998: 1,\n",
       "         0.11618817099999999: 1,\n",
       "         0.018497695: 1,\n",
       "         0.254548841: 1,\n",
       "         0.013574112: 1,\n",
       "         0.029185402000000003: 1,\n",
       "         0.985092264: 1,\n",
       "         0.011904653000000001: 1,\n",
       "         0.312877738: 1,\n",
       "         0.714892819: 1,\n",
       "         0.060867801: 1,\n",
       "         0.14185399099999998: 1,\n",
       "         0.073191767: 1,\n",
       "         0.473663158: 1,\n",
       "         0.987668722: 1,\n",
       "         0.061214562: 1,\n",
       "         0.475252475: 1,\n",
       "         0.243842974: 1,\n",
       "         0.621468927: 1,\n",
       "         0.084589254: 1,\n",
       "         0.880239982: 1,\n",
       "         0.087182563: 2,\n",
       "         0.111715105: 1,\n",
       "         0.659178931: 1,\n",
       "         0.10101257599999999: 1,\n",
       "         0.471803323: 1,\n",
       "         0.22482248600000002: 1,\n",
       "         0.249922521: 1,\n",
       "         0.066285085: 1,\n",
       "         0.025711592999999998: 1,\n",
       "         0.9015098490000001: 1,\n",
       "         0.02331266: 1,\n",
       "         0.048540543: 1,\n",
       "         0.077358439: 1,\n",
       "         0.082452074: 1,\n",
       "         0.14060251: 1,\n",
       "         0.357285429: 1,\n",
       "         0.002140517: 1,\n",
       "         0.07237774400000001: 2,\n",
       "         0.22859122899999998: 1,\n",
       "         0.015293506: 1,\n",
       "         0.059183800999999994: 1,\n",
       "         0.211859605: 1,\n",
       "         0.014688043000000001: 1,\n",
       "         0.019415751000000002: 1,\n",
       "         0.012236873: 1,\n",
       "         0.9174283259999999: 1,\n",
       "         0.716283716: 3,\n",
       "         0.00054943: 1,\n",
       "         0.004680652: 1,\n",
       "         0.42759090000000005: 1,\n",
       "         0.9824778590000001: 1,\n",
       "         0.083486086: 1,\n",
       "         0.01087466: 1,\n",
       "         0.014646523: 1,\n",
       "         1.0085065309999999: 1,\n",
       "         0.537596973: 1,\n",
       "         0.9944287540000001: 1,\n",
       "         0.5561429720000001: 1,\n",
       "         1.25748503: 2,\n",
       "         0.031593681: 2,\n",
       "         0.35407131: 1,\n",
       "         0.075627307: 1,\n",
       "         0.002965614: 1,\n",
       "         0.020390558: 1,\n",
       "         0.04564894: 1,\n",
       "         0.962946947: 1,\n",
       "         0.16022678699999998: 1,\n",
       "         0.06740074900000001: 1,\n",
       "         0.134374585: 1,\n",
       "         0.013218661000000001: 1,\n",
       "         0.000358843: 1,\n",
       "         0.975146408: 1,\n",
       "         0.255610417: 1,\n",
       "         0.682708972: 1,\n",
       "         0.101551406: 1,\n",
       "         0.013105862: 1,\n",
       "         0.040536902: 1,\n",
       "         0.013375668: 1,\n",
       "         0.19877594: 1,\n",
       "         0.053596215: 1,\n",
       "         0.178964154: 1,\n",
       "         0.0035506390000000004: 1,\n",
       "         0.715720439: 1,\n",
       "         0.011343376: 1,\n",
       "         0.158100266: 1,\n",
       "         0.626266154: 1,\n",
       "         0.48268786: 1,\n",
       "         0.524915836: 1,\n",
       "         0.335445712: 1,\n",
       "         0.0018765939999999999: 1,\n",
       "         0.235225157: 1,\n",
       "         0.001901275: 1,\n",
       "         0.10772042300000001: 1,\n",
       "         0.01339933: 1,\n",
       "         0.06409786099999999: 1,\n",
       "         0.547124146: 1,\n",
       "         0.292567833: 1,\n",
       "         0.157137145: 1,\n",
       "         0.042202964: 1,\n",
       "         0.7342843809999999: 1,\n",
       "         0.835311508: 1,\n",
       "         0.5112397: 1,\n",
       "         0.037477248: 1,\n",
       "         0.71976008: 2,\n",
       "         0.047294357: 1,\n",
       "         0.328684508: 1,\n",
       "         0.028083912000000003: 1,\n",
       "         0.003888457: 1,\n",
       "         0.009654537: 1,\n",
       "         0.778719498: 1,\n",
       "         0.05444920599999999: 1,\n",
       "         0.173784093: 1,\n",
       "         0.457154579: 1,\n",
       "         0.11946064699999999: 1,\n",
       "         0.717853471: 1,\n",
       "         0.6072056220000001: 1,\n",
       "         0.276593085: 1,\n",
       "         0.128419662: 1,\n",
       "         0.059356682: 1,\n",
       "         0.00023728400000000001: 1,\n",
       "         0.738420926: 1,\n",
       "         0.086492476: 1,\n",
       "         0.222472191: 2,\n",
       "         0.035754761: 1,\n",
       "         0.003986049: 1,\n",
       "         0.09374176199999999: 1,\n",
       "         0.23197949399999998: 1,\n",
       "         0.105969699: 1,\n",
       "         0.041411471: 1,\n",
       "         0.22305596600000002: 1,\n",
       "         0.452864285: 1,\n",
       "         0.016031741000000002: 1,\n",
       "         0.15189171: 1,\n",
       "         0.606025418: 1,\n",
       "         0.075168462: 1,\n",
       "         0.061833522: 1,\n",
       "         0.010186243000000001: 1,\n",
       "         0.5159756879999999: 1,\n",
       "         0.347921078: 1,\n",
       "         0.10898315900000001: 1,\n",
       "         0.165720783: 1,\n",
       "         0.19462574800000002: 1,\n",
       "         0.48987523: 1,\n",
       "         0.958820874: 1,\n",
       "         0.7990182709999999: 1,\n",
       "         0.011505437: 1,\n",
       "         0.8191157840000001: 1,\n",
       "         0.12254432400000001: 1,\n",
       "         0.667833042: 1,\n",
       "         0.3882572: 1,\n",
       "         2.258964143: 1,\n",
       "         0.013767118: 1,\n",
       "         0.187797808: 1,\n",
       "         0.037379559: 1,\n",
       "         0.00339983: 3,\n",
       "         0.020480494: 1,\n",
       "         0.106475741: 1,\n",
       "         0.518186405: 1,\n",
       "         0.003735788: 1,\n",
       "         0.196960608: 1,\n",
       "         0.802993617: 1,\n",
       "         0.707145775: 1,\n",
       "         0.288592785: 1,\n",
       "         0.39724416100000004: 1,\n",
       "         0.197440895: 1,\n",
       "         0.004884836: 1,\n",
       "         1.362141746: 1,\n",
       "         0.17545213: 1,\n",
       "         0.514353049: 1,\n",
       "         0.00069993: 2,\n",
       "         0.8224002309999999: 1,\n",
       "         0.042759899999999997: 1,\n",
       "         0.222506167: 1,\n",
       "         0.39104560200000005: 1,\n",
       "         0.028775625: 1,\n",
       "         0.477367751: 1,\n",
       "         0.018538176: 1,\n",
       "         0.041366785: 1,\n",
       "         0.9942695509999999: 1,\n",
       "         0.127159603: 1,\n",
       "         0.6104087029999999: 1,\n",
       "         0.15664578099999998: 1,\n",
       "         0.5262016620000001: 1,\n",
       "         0.03737868: 1,\n",
       "         0.163750645: 1,\n",
       "         0.08638272300000001: 1,\n",
       "         0.029132576: 1,\n",
       "         0.15364667699999998: 1,\n",
       "         0.083781617: 1,\n",
       "         0.913773615: 1,\n",
       "         0.251284106: 1,\n",
       "         0.072587125: 1,\n",
       "         0.133613717: 1,\n",
       "         0.001905482: 1,\n",
       "         0.040547951: 1,\n",
       "         0.03452873: 1,\n",
       "         0.010441271: 1,\n",
       "         0.0018822420000000001: 1,\n",
       "         0.015644566999999998: 1,\n",
       "         0.630901661: 1,\n",
       "         0.055228297999999995: 1,\n",
       "         0.946508915: 2,\n",
       "         0.8335941579999999: 1,\n",
       "         0.030327811: 1,\n",
       "         0.194273425: 1,\n",
       "         0.205655719: 1,\n",
       "         0.235752849: 1,\n",
       "         0.029878794: 1,\n",
       "         1.004421666: 1,\n",
       "         0.154955579: 1,\n",
       "         0.016658432: 1,\n",
       "         0.47584138600000003: 1,\n",
       "         0.061439281: 1,\n",
       "         0.527904017: 1,\n",
       "         0.31937852699999997: 1,\n",
       "         0.077910174: 1,\n",
       "         0.278636315: 1,\n",
       "         0.352319991: 1,\n",
       "         0.256314605: 1,\n",
       "         0.066113797: 1,\n",
       "         0.7491335640000001: 1,\n",
       "         0.041992219000000004: 1,\n",
       "         0.21278519899999998: 1,\n",
       "         0.951209758: 1,\n",
       "         0.7003310509999999: 1,\n",
       "         0.019327551999999998: 1,\n",
       "         0.878245498: 1,\n",
       "         0.066928871: 1,\n",
       "         0.11032732099999999: 1,\n",
       "         0.22874291100000002: 1,\n",
       "         0.691722293: 1,\n",
       "         0.275946359: 1,\n",
       "         0.037454421: 1,\n",
       "         0.357684244: 1,\n",
       "         0.102950576: 1,\n",
       "         0.040283239: 1,\n",
       "         0.352989385: 1,\n",
       "         0.6669486960000001: 1,\n",
       "         0.181442474: 1,\n",
       "         0.863213679: 1,\n",
       "         0.093632815: 1,\n",
       "         0.47901313700000003: 1,\n",
       "         0.257067036: 1,\n",
       "         0.02403549: 1,\n",
       "         0.0018904579999999998: 1,\n",
       "         0.399033876: 1,\n",
       "         0.24593085399999998: 1,\n",
       "         0.003957859: 1,\n",
       "         0.408690635: 1,\n",
       "         0.8973690390000001: 1,\n",
       "         0.017558727: 1,\n",
       "         0.11542851900000001: 1,\n",
       "         0.83983667: 1,\n",
       "         0.004384128: 1,\n",
       "         0.38395220799999996: 1,\n",
       "         0.039609476: 1,\n",
       "         0.02464305: 1,\n",
       "         0.284499685: 1,\n",
       "         0.22450706899999998: 1,\n",
       "         0.6431339220000001: 1,\n",
       "         0.14903788699999998: 1,\n",
       "         0.546513871: 1,\n",
       "         0.546015655: 1,\n",
       "         0.14938018: 1,\n",
       "         0.135083219: 1,\n",
       "         0.016221173999999998: 1,\n",
       "         0.068038735: 1,\n",
       "         0.038660566: 1,\n",
       "         0.258812185: 1,\n",
       "         0.033458036000000003: 1,\n",
       "         0.391214634: 1,\n",
       "         0.37791527799999997: 1,\n",
       "         0.09840773300000001: 2,\n",
       "         0.039686202000000004: 1,\n",
       "         0.8295605859999999: 2,\n",
       "         0.631259134: 1,\n",
       "         0.034384238: 1,\n",
       "         0.054537616: 1,\n",
       "         0.50009998: 1,\n",
       "         0.11282021099999999: 1,\n",
       "         0.012538556999999999: 1,\n",
       "         0.996101804: 1,\n",
       "         0.232226657: 1,\n",
       "         0.048037040999999996: 1,\n",
       "         0.530405318: 1,\n",
       "         0.520689428: 1,\n",
       "         0.022135842000000003: 1,\n",
       "         0.101790219: 1,\n",
       "         0.323481841: 1,\n",
       "         0.014466655: 1,\n",
       "         0.022420519: 1,\n",
       "         0.002349883: 2,\n",
       "         0.19253489999999998: 1,\n",
       "         0.251804415: 1,\n",
       "         0.088911089: 2,\n",
       "         0.9877433309999999: 1,\n",
       "         0.030761367999999997: 1,\n",
       "         0.21899158800000001: 1,\n",
       "         0.002072256: 1,\n",
       "         0.22396718100000002: 1,\n",
       "         0.22020183399999999: 1,\n",
       "         0.788340389: 1,\n",
       "         0.034754891: 1,\n",
       "         0.148225606: 1,\n",
       "         0.68028326: 1,\n",
       "         0.179110121: 1,\n",
       "         0.211367652: 1,\n",
       "         0.012987013: 2,\n",
       "         0.247135843: 1,\n",
       "         0.00073798: 1,\n",
       "         0.946978196: 1,\n",
       "         0.8663444709999999: 1,\n",
       "         0.09611387800000001: 1,\n",
       "         0.275326535: 1,\n",
       "         0.595112469: 1,\n",
       "         0.026147182999999997: 1,\n",
       "         0.28927034: 1,\n",
       "         0.040423812: 1,\n",
       "         0.223677632: 2,\n",
       "         0.077246781: 1,\n",
       "         0.328303003: 1,\n",
       "         0.572324438: 1,\n",
       "         0.966275454: 1,\n",
       "         0.07532705599999999: 1,\n",
       "         0.011073663999999999: 1,\n",
       "         0.36917168200000006: 1,\n",
       "         0.960431398: 1,\n",
       "         0.12347136199999999: 1,\n",
       "         0.127493625: 1,\n",
       "         0.087910156: 1,\n",
       "         0.083766009: 1,\n",
       "         0.48092721: 1,\n",
       "         0.009917446: 1,\n",
       "         0.078754404: 1,\n",
       "         0.135042385: 1,\n",
       "         0.007999878: 1,\n",
       "         0.099190841: 1,\n",
       "         0.29739805: 1,\n",
       "         0.307191593: 1,\n",
       "         0.044225262: 2,\n",
       "         0.125014705: 1,\n",
       "         0.004104170999999999: 1,\n",
       "         0.013713796: 1,\n",
       "         0.26735262600000004: 1,\n",
       "         0.163836164: 1,\n",
       "         0.820545297: 1,\n",
       "         0.428382755: 1,\n",
       "         0.0199992: 1,\n",
       "         0.08914698900000001: 1,\n",
       "         0.612030682: 1,\n",
       "         0.8017645440000001: 1,\n",
       "         0.010751196999999999: 1,\n",
       "         0.901795412: 1,\n",
       "         0.001759965: 1,\n",
       "         0.390088472: 1,\n",
       "         0.007353556: 1,\n",
       "         0.061173532999999995: 1,\n",
       "         0.39142696: 1,\n",
       "         0.132820925: 1,\n",
       "         0.8420789609999999: 3,\n",
       "         0.9544490459999999: 1,\n",
       "         0.8046815209999999: 1,\n",
       "         0.7515857029999999: 1,\n",
       "         0.28910532: 1,\n",
       "         0.003157687: 1,\n",
       "         0.601758577: 1,\n",
       "         0.6840209509999999: 1,\n",
       "         0.81054584: 1,\n",
       "         0.9260599159999999: 1,\n",
       "         0.17988008: 1,\n",
       "         0.226957563: 1,\n",
       "         0.941447055: 1,\n",
       "         ...})"
      ]
     },
     "execution_count": 22,
     "metadata": {},
     "output_type": "execute_result"
    }
   ],
   "source": [
    "import collections\n",
    "collections.Counter(training_data.revolvingutilizationofunsecuredlines)"
   ]
  },
  {
   "cell_type": "code",
   "execution_count": 23,
   "metadata": {
    "scrolled": true
   },
   "outputs": [
    {
     "data": {
      "text/plain": [
       "<matplotlib.axes._subplots.AxesSubplot at 0x1c0b351b588>"
      ]
     },
     "execution_count": 23,
     "metadata": {},
     "output_type": "execute_result"
    },
    {
     "data": {
      "image/png": "[encoded data removed]",
      "text/plain": [
       "<Figure size 432x288 with 1 Axes>"
      ]
     },
     "metadata": {},
     "output_type": "display_data"
    }
   ],
   "source": [
    "training_data.revolvingutilizationofunsecuredlines.plot.box()"
   ]
  },
  {
   "cell_type": "code",
   "execution_count": 24,
   "metadata": {},
   "outputs": [],
   "source": [
    "after_outlier = []\n",
    "for value in training_data.revolvingutilizationofunsecuredlines:\n",
    "    if value <= 0.99999:\n",
    "        after_outlier.append(value)\n",
    "    else:\n",
    "        after_outlier.append(0.99999)\n",
    "training_data.revolvingutilizationofunsecuredlines = after_outlier"
   ]
  },
  {
   "cell_type": "code",
   "execution_count": 25,
   "metadata": {},
   "outputs": [
    {
     "data": {
      "text/plain": [
       "<matplotlib.axes._subplots.AxesSubplot at 0x1c0b399fd68>"
      ]
     },
     "execution_count": 25,
     "metadata": {},
     "output_type": "execute_result"
    },
    {
     "data": {
      "image/png": "[encoded data removed]",
      "text/plain": [
       "<Figure size 432x288 with 1 Axes>"
      ]
     },
     "metadata": {},
     "output_type": "display_data"
    }
   ],
   "source": [
    "training_data.revolvingutilizationofunsecuredlines.plot.box()"
   ]
  },
  {
   "cell_type": "markdown",
   "metadata": {},
   "source": [
    "**Dealing with outliers: training_data.age**"
   ]
  },
  {
   "cell_type": "code",
   "execution_count": 26,
   "metadata": {},
   "outputs": [
    {
     "data": {
      "image/png": "[encoded data removed]",
      "text/plain": [
       "<Figure size 1080x720 with 3 Axes>"
      ]
     },
     "metadata": {},
     "output_type": "display_data"
    }
   ],
   "source": [
    "plotoutlier(training_data.age.sample(3000))"
   ]
  },
  {
   "cell_type": "code",
   "execution_count": 27,
   "metadata": {
    "scrolled": true
   },
   "outputs": [
    {
     "data": {
      "text/plain": [
       "Counter({45: 3502,\n",
       "         40: 3093,\n",
       "         38: 2631,\n",
       "         30: 1937,\n",
       "         49: 3837,\n",
       "         74: 1451,\n",
       "         57: 3375,\n",
       "         39: 2987,\n",
       "         27: 1338,\n",
       "         51: 3627,\n",
       "         46: 3714,\n",
       "         76: 1183,\n",
       "         64: 3058,\n",
       "         78: 1054,\n",
       "         53: 3648,\n",
       "         43: 3208,\n",
       "         25: 953,\n",
       "         32: 2050,\n",
       "         58: 3443,\n",
       "         50: 3753,\n",
       "         69: 1954,\n",
       "         24: 816,\n",
       "         28: 1560,\n",
       "         62: 3568,\n",
       "         42: 3082,\n",
       "         75: 1241,\n",
       "         26: 1193,\n",
       "         52: 3609,\n",
       "         41: 3122,\n",
       "         81: 774,\n",
       "         31: 2038,\n",
       "         68: 2235,\n",
       "         70: 1777,\n",
       "         73: 1520,\n",
       "         29: 1702,\n",
       "         55: 3416,\n",
       "         35: 2246,\n",
       "         72: 1649,\n",
       "         60: 3258,\n",
       "         67: 2503,\n",
       "         36: 2379,\n",
       "         56: 3589,\n",
       "         37: 2521,\n",
       "         66: 2494,\n",
       "         83: 512,\n",
       "         34: 2155,\n",
       "         44: 3294,\n",
       "         48: 3806,\n",
       "         61: 3522,\n",
       "         80: 876,\n",
       "         47: 3719,\n",
       "         59: 3280,\n",
       "         77: 1099,\n",
       "         63: 3719,\n",
       "         54: 3561,\n",
       "         33: 2239,\n",
       "         79: 981,\n",
       "         65: 2594,\n",
       "         86: 407,\n",
       "         92: 93,\n",
       "         23: 641,\n",
       "         87: 357,\n",
       "         71: 1646,\n",
       "         22: 434,\n",
       "         90: 198,\n",
       "         97: 17,\n",
       "         84: 480,\n",
       "         82: 647,\n",
       "         91: 154,\n",
       "         89: 276,\n",
       "         85: 483,\n",
       "         88: 313,\n",
       "         21: 183,\n",
       "         93: 87,\n",
       "         96: 18,\n",
       "         99: 9,\n",
       "         94: 47,\n",
       "         95: 45,\n",
       "         101: 3,\n",
       "         98: 6,\n",
       "         103: 3,\n",
       "         102: 3,\n",
       "         107: 1,\n",
       "         105: 1,\n",
       "         0: 1,\n",
       "         109: 2})"
      ]
     },
     "execution_count": 27,
     "metadata": {},
     "output_type": "execute_result"
    }
   ],
   "source": [
    "collections.Counter(training_data.age)"
   ]
  },
  {
   "cell_type": "code",
   "execution_count": 28,
   "metadata": {},
   "outputs": [
    {
     "data": {
      "text/plain": [
       "count    150000.000000\n",
       "mean         52.295207\n",
       "std          14.771866\n",
       "min           0.000000\n",
       "25%          41.000000\n",
       "50%          52.000000\n",
       "75%          63.000000\n",
       "max         109.000000\n",
       "Name: age, dtype: float64"
      ]
     },
     "execution_count": 28,
     "metadata": {},
     "output_type": "execute_result"
    }
   ],
   "source": [
    "training_data.age.describe()"
   ]
  },
  {
   "cell_type": "code",
   "execution_count": 29,
   "metadata": {
    "collapsed": true
   },
   "outputs": [
    {
     "data": {
      "text/plain": [
       "<matplotlib.axes._subplots.AxesSubplot at 0x1c0b2a72be0>"
      ]
     },
     "execution_count": 29,
     "metadata": {},
     "output_type": "execute_result"
    },
    {
     "data": {
      "image/png": "[encoded data removed]",
      "text/plain": [
       "<Figure size 432x288 with 1 Axes>"
      ]
     },
     "metadata": {},
     "output_type": "display_data"
    }
   ],
   "source": [
    "training_data.age.plot.box()"
   ]
  },
  {
   "cell_type": "code",
   "execution_count": 30,
   "metadata": {},
   "outputs": [],
   "source": [
    "age_after_outlier = []\n",
    "for value in training_data.age:\n",
    "    if value > 21:\n",
    "        age_after_outlier.append(value)\n",
    "    else:\n",
    "        age_after_outlier.append(21)\n",
    "        \n",
    "training_data.age = age_after_outlier"
   ]
  },
  {
   "cell_type": "code",
   "execution_count": 31,
   "metadata": {},
   "outputs": [
    {
     "data": {
      "text/plain": [
       "count    150000.000000\n",
       "mean         52.295347\n",
       "std          14.771470\n",
       "min          21.000000\n",
       "25%          41.000000\n",
       "50%          52.000000\n",
       "75%          63.000000\n",
       "max         109.000000\n",
       "Name: age, dtype: float64"
      ]
     },
     "execution_count": 31,
     "metadata": {},
     "output_type": "execute_result"
    }
   ],
   "source": [
    "training_data.age.describe()"
   ]
  },
  {
   "cell_type": "code",
   "execution_count": 32,
   "metadata": {},
   "outputs": [
    {
     "data": {
      "text/plain": [
       "<matplotlib.axes._subplots.AxesSubplot at 0x1c0b28c85c0>"
      ]
     },
     "execution_count": 32,
     "metadata": {},
     "output_type": "execute_result"
    },
    {
     "data": {
      "image/png": "[encoded data removed]",
      "text/plain": [
       "<Figure size 432x288 with 1 Axes>"
      ]
     },
     "metadata": {},
     "output_type": "display_data"
    }
   ],
   "source": [
    "training_data.age.plot.box()"
   ]
  },
  {
   "cell_type": "code",
   "execution_count": 33,
   "metadata": {},
   "outputs": [
    {
     "data": {
      "text/plain": [
       "{'percentile_based_outlier': [3750, '2.50%'],\n",
       " 'median_based_outlier': [31727, '21.15%'],\n",
       " 'stand_div_based_outlier': [779, '0.52%']}"
      ]
     },
     "execution_count": 33,
     "metadata": {},
     "output_type": "execute_result"
    }
   ],
   "source": [
    "def outliers_percent(data):\n",
    "    functions = [percentile_based_outlier, median_based_outlier, stand_div_based_outlier]\n",
    "    outlierdict = {}\n",
    "    for func in functions:\n",
    "        funcResult = func(data)\n",
    "        count = 0\n",
    "        for value in funcResult:\n",
    "            if value == True:\n",
    "                count += 1 \n",
    "        outlierdict[str(func)[10:].split()[0]] = [count, '{:.2f}%'.format((float(count)/len(data))*100)]\n",
    "    \n",
    "    return outlierdict\n",
    "outliers_percent(training_data.debtratio)"
   ]
  },
  {
   "cell_type": "code",
   "execution_count": 34,
   "metadata": {},
   "outputs": [
    {
     "data": {
      "image/png": "[encoded data removed]",
      "text/plain": [
       "<Figure size 1080x720 with 3 Axes>"
      ]
     },
     "metadata": {},
     "output_type": "display_data"
    }
   ],
   "source": [
    "plotoutlier(training_data.debtratio.sample(1000))"
   ]
  },
  {
   "cell_type": "markdown",
   "metadata": {},
   "source": [
    "**Dealing with outliers: training_data.numberoftime3059dayspastduenotworse**"
   ]
  },
  {
   "cell_type": "code",
   "execution_count": 35,
   "metadata": {},
   "outputs": [
    {
     "data": {
      "text/plain": [
       "Counter({2: 4598,\n",
       "         0: 126018,\n",
       "         1: 16033,\n",
       "         3: 1754,\n",
       "         4: 747,\n",
       "         5: 342,\n",
       "         7: 54,\n",
       "         10: 4,\n",
       "         6: 140,\n",
       "         98: 264,\n",
       "         12: 2,\n",
       "         8: 25,\n",
       "         9: 12,\n",
       "         96: 5,\n",
       "         13: 1,\n",
       "         11: 1})"
      ]
     },
     "execution_count": 35,
     "metadata": {},
     "output_type": "execute_result"
    }
   ],
   "source": [
    "collections.Counter(training_data.numberoftime3059dayspastduenotworse)"
   ]
  },
  {
   "cell_type": "code",
   "execution_count": 36,
   "metadata": {},
   "outputs": [],
   "source": [
    "New = []\n",
    "med = training_data.numberoftime3059dayspastduenotworse.median()\n",
    "for val in training_data.numberoftime3059dayspastduenotworse:\n",
    "    if ((val == 98) | (val == 96)):\n",
    "        New.append(med)\n",
    "    else:\n",
    "        New.append(val)\n",
    "\n",
    "training_data.numberoftime3059dayspastduenotworse = New"
   ]
  },
  {
   "cell_type": "markdown",
   "metadata": {},
   "source": [
    "**Dealing with outliers: training_data.debtratio**"
   ]
  },
  {
   "cell_type": "code",
   "execution_count": 37,
   "metadata": {},
   "outputs": [],
   "source": [
    "minUpperBound = min([val for (val, out) in \n",
    "                     zip(training_data.debtratio, median_based_outlier(training_data.debtratio)) if out == True])"
   ]
  },
  {
   "cell_type": "code",
   "execution_count": 38,
   "metadata": {},
   "outputs": [],
   "source": [
    "newDebtRatio = []\n",
    "for val in training_data.debtratio:\n",
    "    if val > minUpperBound:\n",
    "        newDebtRatio.append(minUpperBound)\n",
    "    else:\n",
    "        newDebtRatio.append(val)\n",
    "\n",
    "training_data.debtratio = newDebtRatio"
   ]
  },
  {
   "cell_type": "markdown",
   "metadata": {},
   "source": [
    "**Dealing with outliers: training_data.monthlyincome**"
   ]
  },
  {
   "cell_type": "code",
   "execution_count": 39,
   "metadata": {},
   "outputs": [],
   "source": [
    "def replaceOutlier(data, method = stand_div_based_outlier, replace='median'):\n",
    "    '''replace: median (auto)\n",
    "                'minUpper' which is the upper bound of the outlier detection'''\n",
    "    vote = stand_div_based_outlier(data)\n",
    "    x = pd.DataFrame({'debt':data, 'outlier':vote})\n",
    "    if replace == 'median':\n",
    "        replace = x.debt.median()\n",
    "    elif replace == 'minUpper':\n",
    "        replace = min([val for (val, vote) in zip(data, vote) if vote == True])\n",
    "        if replace < data.mean():\n",
    "            return 'There are outliers lower than the sample mean'\n",
    "    debtNew = []\n",
    "    for i in range(x.shape[0]):\n",
    "        if x.iloc[i][1] == True:\n",
    "            debtNew.append(replace)\n",
    "        else:\n",
    "            debtNew.append(x.iloc[i][0])\n",
    "    \n",
    "    return debtNew"
   ]
  },
  {
   "cell_type": "code",
   "execution_count": 40,
   "metadata": {},
   "outputs": [],
   "source": [
    "incomeNew = replaceOutlier(training_data.monthlyincome, replace='minUpper')\n",
    "training_data.monthlyincome = incomeNew"
   ]
  },
  {
   "cell_type": "markdown",
   "metadata": {},
   "source": [
    "**Dealing with outliers: training_data.numberoftimes90dayslate**"
   ]
  },
  {
   "cell_type": "code",
   "execution_count": 41,
   "metadata": {},
   "outputs": [
    {
     "data": {
      "text/plain": [
       "Counter({0: 141662,\n",
       "         1: 5243,\n",
       "         3: 667,\n",
       "         2: 1555,\n",
       "         5: 131,\n",
       "         4: 291,\n",
       "         98: 264,\n",
       "         10: 8,\n",
       "         9: 19,\n",
       "         6: 80,\n",
       "         7: 38,\n",
       "         8: 21,\n",
       "         15: 2,\n",
       "         96: 5,\n",
       "         11: 5,\n",
       "         13: 4,\n",
       "         14: 2,\n",
       "         17: 1,\n",
       "         12: 2})"
      ]
     },
     "execution_count": 41,
     "metadata": {},
     "output_type": "execute_result"
    }
   ],
   "source": [
    "collections.Counter(training_data.numberoftimes90dayslate)"
   ]
  },
  {
   "cell_type": "code",
   "execution_count": 42,
   "metadata": {},
   "outputs": [],
   "source": [
    "def removeSpecificAndPutMedian(data, first = 98, second = 96):\n",
    "    New = []\n",
    "    med = data.median()\n",
    "    for val in data:\n",
    "        if ((val == first) | (val == second)):\n",
    "            New.append(med)\n",
    "        else:\n",
    "            New.append(val)\n",
    "            \n",
    "    return New"
   ]
  },
  {
   "cell_type": "code",
   "execution_count": 43,
   "metadata": {},
   "outputs": [],
   "source": [
    "new = removeSpecificAndPutMedian(training_data.numberoftimes90dayslate)\n",
    "training_data.numberoftimes90dayslate = new"
   ]
  },
  {
   "cell_type": "markdown",
   "metadata": {},
   "source": [
    "**Dealing with outliers: training_data.numberrealestateloansorlines**"
   ]
  },
  {
   "cell_type": "code",
   "execution_count": 44,
   "metadata": {
    "scrolled": true
   },
   "outputs": [
    {
     "data": {
      "text/plain": [
       "Counter({6: 320,\n",
       "         0: 56188,\n",
       "         1: 52338,\n",
       "         3: 6300,\n",
       "         4: 2170,\n",
       "         2: 31522,\n",
       "         5: 689,\n",
       "         8: 93,\n",
       "         7: 171,\n",
       "         9: 78,\n",
       "         17: 4,\n",
       "         15: 7,\n",
       "         10: 37,\n",
       "         12: 18,\n",
       "         11: 23,\n",
       "         16: 4,\n",
       "         26: 1,\n",
       "         14: 7,\n",
       "         54: 1,\n",
       "         21: 1,\n",
       "         18: 2,\n",
       "         13: 15,\n",
       "         23: 2,\n",
       "         29: 1,\n",
       "         25: 3,\n",
       "         19: 2,\n",
       "         20: 2,\n",
       "         32: 1})"
      ]
     },
     "execution_count": 44,
     "metadata": {},
     "output_type": "execute_result"
    }
   ],
   "source": [
    "collections.Counter(training_data.numberrealestateloansorlines)"
   ]
  },
  {
   "cell_type": "code",
   "execution_count": 45,
   "metadata": {},
   "outputs": [],
   "source": [
    "realNew = []\n",
    "for val in training_data.numberrealestateloansorlines:\n",
    "    if val > 17:\n",
    "        realNew.append(17)\n",
    "    else:\n",
    "        realNew.append(val)\n",
    "training_data.numberrealestateloansorlines = realNew"
   ]
  },
  {
   "cell_type": "markdown",
   "metadata": {},
   "source": [
    "**Dealing with outliers: training_data.numberoftime6089dayspastduenotworse**"
   ]
  },
  {
   "cell_type": "code",
   "execution_count": 46,
   "metadata": {
    "scrolled": true
   },
   "outputs": [
    {
     "data": {
      "text/plain": [
       "Counter({0: 142396,\n",
       "         1: 5731,\n",
       "         2: 1118,\n",
       "         5: 34,\n",
       "         3: 318,\n",
       "         98: 264,\n",
       "         4: 105,\n",
       "         6: 16,\n",
       "         7: 9,\n",
       "         8: 2,\n",
       "         96: 5,\n",
       "         11: 1,\n",
       "         9: 1})"
      ]
     },
     "execution_count": 46,
     "metadata": {},
     "output_type": "execute_result"
    }
   ],
   "source": [
    "collections.Counter(training_data.numberoftime6089dayspastduenotworse)"
   ]
  },
  {
   "cell_type": "code",
   "execution_count": 47,
   "metadata": {},
   "outputs": [],
   "source": [
    "new = removeSpecificAndPutMedian(training_data.numberoftime6089dayspastduenotworse)\n",
    "training_data.numberoftime6089dayspastduenotworse = new"
   ]
  },
  {
   "cell_type": "markdown",
   "metadata": {},
   "source": [
    "**Dealing with outliers: training_data.numberofdependents**"
   ]
  },
  {
   "cell_type": "code",
   "execution_count": 48,
   "metadata": {
    "scrolled": true
   },
   "outputs": [
    {
     "data": {
      "text/plain": [
       "Counter({2.0: 19522,\n",
       "         1.0: 26316,\n",
       "         0.0: 90826,\n",
       "         3.0: 9483,\n",
       "         4.0: 2862,\n",
       "         5.0: 746,\n",
       "         6.0: 158,\n",
       "         8.0: 24,\n",
       "         7.0: 51,\n",
       "         20.0: 1,\n",
       "         10.0: 5,\n",
       "         9.0: 5,\n",
       "         13.0: 1})"
      ]
     },
     "execution_count": 48,
     "metadata": {},
     "output_type": "execute_result"
    }
   ],
   "source": [
    "collections.Counter(training_data.numberofdependents)"
   ]
  },
  {
   "cell_type": "code",
   "execution_count": 49,
   "metadata": {},
   "outputs": [],
   "source": [
    "depNew = []\n",
    "for var in training_data.numberofdependents:\n",
    "    if var > 10:\n",
    "        depNew.append(10)\n",
    "    else:\n",
    "        depNew.append(var)"
   ]
  },
  {
   "cell_type": "code",
   "execution_count": 50,
   "metadata": {},
   "outputs": [],
   "source": [
    "training_data.numberofdependents = depNew"
   ]
  },
  {
   "cell_type": "code",
   "execution_count": 51,
   "metadata": {},
   "outputs": [
    {
     "data": {
      "text/html": [
       "<div>\n",
       "<style scoped>\n",
       "    .dataframe tbody tr th:only-of-type {\n",
       "        vertical-align: middle;\n",
       "    }\n",
       "\n",
       "    .dataframe tbody tr th {\n",
       "        vertical-align: top;\n",
       "    }\n",
       "\n",
       "    .dataframe thead th {\n",
       "        text-align: right;\n",
       "    }\n",
       "</style>\n",
       "<table border=\"1\" class=\"dataframe\">\n",
       "  <thead>\n",
       "    <tr style=\"text-align: right;\">\n",
       "      <th></th>\n",
       "      <th>seriousdlqin2yrs</th>\n",
       "      <th>revolvingutilizationofunsecuredlines</th>\n",
       "      <th>age</th>\n",
       "      <th>numberoftime3059dayspastduenotworse</th>\n",
       "      <th>debtratio</th>\n",
       "      <th>monthlyincome</th>\n",
       "      <th>numberofopencreditlinesandloans</th>\n",
       "      <th>numberoftimes90dayslate</th>\n",
       "      <th>numberrealestateloansorlines</th>\n",
       "      <th>numberoftime6089dayspastduenotworse</th>\n",
       "      <th>numberofdependents</th>\n",
       "    </tr>\n",
       "  </thead>\n",
       "  <tbody>\n",
       "    <tr>\n",
       "      <th>0</th>\n",
       "      <td>1</td>\n",
       "      <td>0.766127</td>\n",
       "      <td>45</td>\n",
       "      <td>2.0</td>\n",
       "      <td>0.802982</td>\n",
       "      <td>9120.0</td>\n",
       "      <td>13</td>\n",
       "      <td>0.0</td>\n",
       "      <td>6</td>\n",
       "      <td>0.0</td>\n",
       "      <td>2.0</td>\n",
       "    </tr>\n",
       "    <tr>\n",
       "      <th>1</th>\n",
       "      <td>0</td>\n",
       "      <td>0.957151</td>\n",
       "      <td>40</td>\n",
       "      <td>0.0</td>\n",
       "      <td>0.121876</td>\n",
       "      <td>2600.0</td>\n",
       "      <td>4</td>\n",
       "      <td>0.0</td>\n",
       "      <td>0</td>\n",
       "      <td>0.0</td>\n",
       "      <td>1.0</td>\n",
       "    </tr>\n",
       "    <tr>\n",
       "      <th>2</th>\n",
       "      <td>0</td>\n",
       "      <td>0.658180</td>\n",
       "      <td>38</td>\n",
       "      <td>1.0</td>\n",
       "      <td>0.085113</td>\n",
       "      <td>3042.0</td>\n",
       "      <td>2</td>\n",
       "      <td>1.0</td>\n",
       "      <td>0</td>\n",
       "      <td>0.0</td>\n",
       "      <td>0.0</td>\n",
       "    </tr>\n",
       "    <tr>\n",
       "      <th>3</th>\n",
       "      <td>0</td>\n",
       "      <td>0.233810</td>\n",
       "      <td>30</td>\n",
       "      <td>0.0</td>\n",
       "      <td>0.036050</td>\n",
       "      <td>3300.0</td>\n",
       "      <td>5</td>\n",
       "      <td>0.0</td>\n",
       "      <td>0</td>\n",
       "      <td>0.0</td>\n",
       "      <td>0.0</td>\n",
       "    </tr>\n",
       "    <tr>\n",
       "      <th>4</th>\n",
       "      <td>0</td>\n",
       "      <td>0.907239</td>\n",
       "      <td>49</td>\n",
       "      <td>1.0</td>\n",
       "      <td>0.024926</td>\n",
       "      <td>38900.0</td>\n",
       "      <td>7</td>\n",
       "      <td>0.0</td>\n",
       "      <td>1</td>\n",
       "      <td>0.0</td>\n",
       "      <td>0.0</td>\n",
       "    </tr>\n",
       "  </tbody>\n",
       "</table>\n",
       "</div>"
      ],
      "text/plain": [
       "   seriousdlqin2yrs  revolvingutilizationofunsecuredlines  age  \\\n",
       "0                 1                              0.766127   45   \n",
       "1                 0                              0.957151   40   \n",
       "2                 0                              0.658180   38   \n",
       "3                 0                              0.233810   30   \n",
       "4                 0                              0.907239   49   \n",
       "\n",
       "   numberoftime3059dayspastduenotworse  debtratio  monthlyincome  \\\n",
       "0                                  2.0   0.802982         9120.0   \n",
       "1                                  0.0   0.121876         2600.0   \n",
       "2                                  1.0   0.085113         3042.0   \n",
       "3                                  0.0   0.036050         3300.0   \n",
       "4                                  1.0   0.024926        38900.0   \n",
       "\n",
       "   numberofopencreditlinesandloans  numberoftimes90dayslate  \\\n",
       "0                               13                      0.0   \n",
       "1                                4                      0.0   \n",
       "2                                2                      1.0   \n",
       "3                                5                      0.0   \n",
       "4                                7                      0.0   \n",
       "\n",
       "   numberrealestateloansorlines  numberoftime6089dayspastduenotworse  \\\n",
       "0                             6                                  0.0   \n",
       "1                             0                                  0.0   \n",
       "2                             0                                  0.0   \n",
       "3                             0                                  0.0   \n",
       "4                             1                                  0.0   \n",
       "\n",
       "   numberofdependents  \n",
       "0                 2.0  \n",
       "1                 1.0  \n",
       "2                 0.0  \n",
       "3                 0.0  \n",
       "4                 0.0  "
      ]
     },
     "execution_count": 51,
     "metadata": {},
     "output_type": "execute_result"
    }
   ],
   "source": [
    "training_data.head()"
   ]
  },
  {
   "cell_type": "markdown",
   "metadata": {},
   "source": [
    "### Feature Importance"
   ]
  },
  {
   "cell_type": "code",
   "execution_count": 52,
   "metadata": {},
   "outputs": [],
   "source": [
    "from sklearn.ensemble import RandomForestClassifier"
   ]
  },
  {
   "cell_type": "code",
   "execution_count": 57,
   "metadata": {},
   "outputs": [
    {
     "data": {
      "text/plain": [
       "RandomForestClassifier(bootstrap=True, class_weight=None, criterion='gini',\n",
       "            max_depth=None, max_features='auto', max_leaf_nodes=None,\n",
       "            min_impurity_decrease=0.0, min_impurity_split=None,\n",
       "            min_samples_leaf=1, min_samples_split=2,\n",
       "            min_weight_fraction_leaf=0.0, n_estimators=500, n_jobs=1,\n",
       "            oob_score=False, random_state=0, verbose=0, warm_start=False)"
      ]
     },
     "execution_count": 57,
     "metadata": {},
     "output_type": "execute_result"
    }
   ],
   "source": [
    "X = training_data.drop('seriousdlqin2yrs', axis = 1)\n",
    "y = training_data.seriousdlqin2yrs\n",
    "features_label = training_data.columns[1:]\n",
    "forest = RandomForestClassifier(n_estimators = 500, random_state=0, n_jobs =1)\n",
    "forest.fit(X,y)"
   ]
  },
  {
   "cell_type": "code",
   "execution_count": 63,
   "metadata": {},
   "outputs": [
    {
     "data": {
      "text/plain": [
       "array([0, 3, 4, 1, 5, 6, 2, 8, 9, 7], dtype=int64)"
      ]
     },
     "execution_count": 63,
     "metadata": {},
     "output_type": "execute_result"
    }
   ],
   "source": [
    "importances = forest.feature_importances_\n",
    "indices = np. argsort(importances)[::-1]\n",
    "indices"
   ]
  },
  {
   "cell_type": "code",
   "execution_count": 64,
   "metadata": {},
   "outputs": [
    {
     "name": "stdout",
     "output_type": "stream",
     "text": [
      " 1) revolvingutilizationofunsecuredlines 0.188540\n",
      " 2) debtratio                      0.154247\n",
      " 3) monthlyincome                  0.152813\n",
      " 4) age                            0.141276\n",
      " 5) numberofopencreditlinesandloans 0.098071\n",
      " 6) numberoftimes90dayslate        0.087938\n",
      " 7) numberoftime3059dayspastduenotworse 0.050489\n",
      " 8) numberoftime6089dayspastduenotworse 0.045925\n",
      " 9) numberofdependents             0.044204\n",
      "10) numberrealestateloansorlines   0.036498\n"
     ]
    }
   ],
   "source": [
    "for i in range(X.shape[1]):\n",
    "    print (\"%2d) %-*s %f\" % (i + 1, 30, features_label[indices[i]],importances[indices[i]]))"
   ]
  },
  {
   "cell_type": "markdown",
   "metadata": {},
   "source": [
    "This gives us how importance each feature is in predicting the credit risk."
   ]
  },
  {
   "cell_type": "code",
   "execution_count": 66,
   "metadata": {},
   "outputs": [
    {
     "data": {
      "image/png": "[encoded data removed]",
      "text/plain": [
       "<Figure size 432x288 with 1 Axes>"
      ]
     },
     "metadata": {},
     "output_type": "display_data"
    }
   ],
   "source": [
    "plt.title('Feature Importances')\n",
    "plt.bar(range(X.shape[1]),importances[indices], color=\"green\", align=\"center\")\n",
    "plt.xticks(range(X.shape[1]),features_label[indices], rotation=90)\n",
    "plt.xlim([-1, X.shape[1]])\n",
    "plt.show()"
   ]
  },
  {
   "cell_type": "markdown",
   "metadata": {},
   "source": [
    "### Feature Modeling"
   ]
  },
  {
   "cell_type": "markdown",
   "metadata": {},
   "source": [
    "The following Machine Learning Algorithms will be used to model the data:\n",
    "- Logistic Regression\n",
    "- K Nearest Neighbor Classifier\n",
    "- AdaBoost Classifier\n",
    "- Gradient Boosting Classifier\n",
    "- Random Forest Classifier"
   ]
  },
  {
   "cell_type": "code",
   "execution_count": 67,
   "metadata": {},
   "outputs": [],
   "source": [
    "from sklearn.linear_model import LogisticRegression\n",
    "from sklearn.ensemble import AdaBoostClassifier, GradientBoostingClassifier, RandomForestClassifier\n",
    "from sklearn.neighbors import KNeighborsClassifier\n",
    "from sklearn.model_selection import train_test_split\n",
    "from sklearn.metrics import roc_auc_score"
   ]
  },
  {
   "cell_type": "code",
   "execution_count": 68,
   "metadata": {},
   "outputs": [],
   "source": [
    "X_train, X_test, y_train, y_test = train_test_split(X, y, test_size=0.25)"
   ]
  },
  {
   "cell_type": "markdown",
   "metadata": {},
   "source": [
    "**Logistic Regression**"
   ]
  },
  {
   "cell_type": "code",
   "execution_count": 69,
   "metadata": {},
   "outputs": [
    {
     "name": "stdout",
     "output_type": "stream",
     "text": [
      "[LibLinear]"
     ]
    },
    {
     "data": {
      "text/plain": [
       "LogisticRegression(C=1.0, class_weight=None, dual=False, fit_intercept=True,\n",
       "          intercept_scaling=1, max_iter=100, multi_class='ovr',\n",
       "          n_jobs=None, penalty='l1', random_state=None, solver='liblinear',\n",
       "          tol=0.0001, verbose=2, warm_start=False)"
      ]
     },
     "execution_count": 69,
     "metadata": {},
     "output_type": "execute_result"
    }
   ],
   "source": [
    "lmMod = LogisticRegression(penalty='l1', dual=False, tol=0.0001, C=1.0, fit_intercept=True,\n",
    "                            intercept_scaling=1, class_weight=None, \n",
    "                            random_state=None, solver='liblinear', max_iter=100,\n",
    "                            multi_class='ovr', verbose=2)\n",
    "lmMod.fit(X_train, y_train)"
   ]
  },
  {
   "cell_type": "code",
   "execution_count": 70,
   "metadata": {},
   "outputs": [
    {
     "data": {
      "text/plain": [
       "0.9382666666666667"
      ]
     },
     "execution_count": 70,
     "metadata": {},
     "output_type": "execute_result"
    }
   ],
   "source": [
    "lmMod.score(X_test, y_test)"
   ]
  },
  {
   "cell_type": "code",
   "execution_count": 148,
   "metadata": {},
   "outputs": [
    {
     "name": "stdout",
     "output_type": "stream",
     "text": [
      "[0.01537137 0.04607212 0.01354094 ... 0.05380904 0.40063982 0.01187274]\n"
     ]
    }
   ],
   "source": [
    "test_labels =lmMod.predict_proba(np.array(X_test.values))[:,1]\n",
    "\n",
    "print(test_labels)"
   ]
  },
  {
   "cell_type": "code",
   "execution_count": 84,
   "metadata": {},
   "outputs": [
    {
     "data": {
      "text/plain": [
       "0.8497649458799502"
      ]
     },
     "execution_count": 84,
     "metadata": {},
     "output_type": "execute_result"
    }
   ],
   "source": [
    "roc_auc_score(y_test,test_labels , average='macro', sample_weight=None)"
   ]
  },
  {
   "cell_type": "markdown",
   "metadata": {},
   "source": [
    "**K Nearest Neighbor Classifier**"
   ]
  },
  {
   "cell_type": "code",
   "execution_count": 85,
   "metadata": {},
   "outputs": [
    {
     "data": {
      "text/plain": [
       "KNeighborsClassifier(algorithm='auto', leaf_size=30, metric='minkowski',\n",
       "           metric_params=None, n_jobs=None, n_neighbors=5, p=2,\n",
       "           weights='uniform')"
      ]
     },
     "execution_count": 85,
     "metadata": {},
     "output_type": "execute_result"
    }
   ],
   "source": [
    "knMod = KNeighborsClassifier(n_neighbors=5, weights='uniform', algorithm='auto', leaf_size=30, p=2,\n",
    "                             metric='minkowski', metric_params=None)\n",
    "\n",
    "knMod.fit(X_train, y_train)"
   ]
  },
  {
   "cell_type": "code",
   "execution_count": 86,
   "metadata": {},
   "outputs": [
    {
     "data": {
      "text/plain": [
       "0.9335733333333334"
      ]
     },
     "execution_count": 86,
     "metadata": {},
     "output_type": "execute_result"
    }
   ],
   "source": [
    "knMod.score(X_test, y_test)"
   ]
  },
  {
   "cell_type": "code",
   "execution_count": 87,
   "metadata": {},
   "outputs": [
    {
     "data": {
      "text/plain": [
       "0.5887918027062304"
      ]
     },
     "execution_count": 87,
     "metadata": {},
     "output_type": "execute_result"
    }
   ],
   "source": [
    "test_labels=knMod.predict_proba(np.array(X_test.values))[:,1]\n",
    "roc_auc_score(y_test,test_labels , average='macro', sample_weight=None)"
   ]
  },
  {
   "cell_type": "markdown",
   "metadata": {},
   "source": [
    "**AdaBoost Classifier**"
   ]
  },
  {
   "cell_type": "code",
   "execution_count": 88,
   "metadata": {},
   "outputs": [],
   "source": [
    "adaMod = AdaBoostClassifier(base_estimator=None, n_estimators=200, learning_rate=1.0)"
   ]
  },
  {
   "cell_type": "code",
   "execution_count": 89,
   "metadata": {},
   "outputs": [
    {
     "data": {
      "text/plain": [
       "AdaBoostClassifier(algorithm='SAMME.R', base_estimator=None,\n",
       "          learning_rate=1.0, n_estimators=200, random_state=None)"
      ]
     },
     "execution_count": 89,
     "metadata": {},
     "output_type": "execute_result"
    }
   ],
   "source": [
    "adaMod.fit(X_train, y_train)"
   ]
  },
  {
   "cell_type": "code",
   "execution_count": 90,
   "metadata": {},
   "outputs": [
    {
     "data": {
      "text/plain": [
       "0.93696"
      ]
     },
     "execution_count": 90,
     "metadata": {},
     "output_type": "execute_result"
    }
   ],
   "source": [
    "adaMod.score(X_test, y_test)"
   ]
  },
  {
   "cell_type": "code",
   "execution_count": 92,
   "metadata": {},
   "outputs": [
    {
     "data": {
      "text/plain": [
       "0.8592176568673173"
      ]
     },
     "execution_count": 92,
     "metadata": {},
     "output_type": "execute_result"
    }
   ],
   "source": [
    "test_labels=adaMod.predict_proba(np.array(X_test.values))[:,1]\n",
    "roc_auc_score(y_test,test_labels , average='macro', sample_weight=None)"
   ]
  },
  {
   "cell_type": "markdown",
   "metadata": {},
   "source": [
    "**Gradient Boosting Classifier**"
   ]
  },
  {
   "cell_type": "code",
   "execution_count": 93,
   "metadata": {},
   "outputs": [
    {
     "data": {
      "text/plain": [
       "GradientBoostingClassifier(criterion='friedman_mse', init=None,\n",
       "              learning_rate=0.1, loss='deviance', max_depth=3,\n",
       "              max_features=None, max_leaf_nodes=None,\n",
       "              min_impurity_decrease=0.0, min_impurity_split=None,\n",
       "              min_samples_leaf=1, min_samples_split=2,\n",
       "              min_weight_fraction_leaf=0.0, n_estimators=200,\n",
       "              n_iter_no_change=None, presort='auto', random_state=None,\n",
       "              subsample=1.0, tol=0.0001, validation_fraction=0.1,\n",
       "              verbose=0, warm_start=False)"
      ]
     },
     "execution_count": 93,
     "metadata": {},
     "output_type": "execute_result"
    }
   ],
   "source": [
    "gbMod = GradientBoostingClassifier(loss='deviance', learning_rate=0.1, n_estimators=200, subsample=1.0,\n",
    "                                   min_samples_split=2, min_samples_leaf=1, min_weight_fraction_leaf=0.0, \n",
    "                                   max_depth=3,\n",
    "                                   init=None, random_state=None, max_features=None, verbose=0)\n",
    "gbMod.fit(X_train, y_train)"
   ]
  },
  {
   "cell_type": "code",
   "execution_count": 94,
   "metadata": {},
   "outputs": [
    {
     "data": {
      "text/plain": [
       "0.938"
      ]
     },
     "execution_count": 94,
     "metadata": {},
     "output_type": "execute_result"
    }
   ],
   "source": [
    "gbMod.score(X_test, y_test)"
   ]
  },
  {
   "cell_type": "code",
   "execution_count": 95,
   "metadata": {},
   "outputs": [
    {
     "data": {
      "text/plain": [
       "0.8592176568673173"
      ]
     },
     "execution_count": 95,
     "metadata": {},
     "output_type": "execute_result"
    }
   ],
   "source": [
    "test_labels=adaMod.predict_proba(np.array(X_test.values))[:,1]\n",
    "roc_auc_score(y_test,test_labels , average='macro', sample_weight=None)"
   ]
  },
  {
   "cell_type": "markdown",
   "metadata": {},
   "source": [
    "**Random Forest Classifier**"
   ]
  },
  {
   "cell_type": "code",
   "execution_count": 96,
   "metadata": {},
   "outputs": [],
   "source": [
    "rfMod = RandomForestClassifier(n_estimators=10, criterion='gini', max_depth=None, min_samples_split=2,\n",
    "                               min_samples_leaf=1, min_weight_fraction_leaf=0.0, max_features='auto',\n",
    "                               max_leaf_nodes=None, bootstrap=True, oob_score=False, n_jobs=1, \n",
    "                               random_state=None, verbose=0)"
   ]
  },
  {
   "cell_type": "code",
   "execution_count": 97,
   "metadata": {},
   "outputs": [
    {
     "data": {
      "text/plain": [
       "RandomForestClassifier(bootstrap=True, class_weight=None, criterion='gini',\n",
       "            max_depth=None, max_features='auto', max_leaf_nodes=None,\n",
       "            min_impurity_decrease=0.0, min_impurity_split=None,\n",
       "            min_samples_leaf=1, min_samples_split=2,\n",
       "            min_weight_fraction_leaf=0.0, n_estimators=10, n_jobs=1,\n",
       "            oob_score=False, random_state=None, verbose=0,\n",
       "            warm_start=False)"
      ]
     },
     "execution_count": 97,
     "metadata": {},
     "output_type": "execute_result"
    }
   ],
   "source": [
    "rfMod.fit(X_train, y_train)"
   ]
  },
  {
   "cell_type": "code",
   "execution_count": 98,
   "metadata": {},
   "outputs": [
    {
     "data": {
      "text/plain": [
       "0.9323733333333334"
      ]
     },
     "execution_count": 98,
     "metadata": {},
     "output_type": "execute_result"
    }
   ],
   "source": [
    "rfMod.score(X_test, y_test)"
   ]
  },
  {
   "cell_type": "code",
   "execution_count": 99,
   "metadata": {},
   "outputs": [
    {
     "data": {
      "text/plain": [
       "0.7813524098680642"
      ]
     },
     "execution_count": 99,
     "metadata": {},
     "output_type": "execute_result"
    }
   ],
   "source": [
    "test_labels=rfMod.predict_proba(np.array(X_test.values))[:,1]\n",
    "roc_auc_score(y_test,test_labels , average='macro', sample_weight=None)"
   ]
  },
  {
   "cell_type": "markdown",
   "metadata": {},
   "source": [
    "**5 Fold Cross Validation**"
   ]
  },
  {
   "cell_type": "code",
   "execution_count": 100,
   "metadata": {},
   "outputs": [],
   "source": [
    "from sklearn.model_selection import cross_val_score"
   ]
  },
  {
   "cell_type": "code",
   "execution_count": 101,
   "metadata": {},
   "outputs": [],
   "source": [
    "def cvDictGen(functions, scr, X_train=X, y_train=y, cv=5, verbose=1):\n",
    "    cvDict = {}\n",
    "    for func in functions:\n",
    "        cvScore = cross_val_score(func, X_train, y_train, cv=cv, verbose=verbose, scoring=scr)\n",
    "        cvDict[str(func).split('(')[0]] = [cvScore.mean(), cvScore.std()]\n",
    "    \n",
    "    return cvDict"
   ]
  },
  {
   "cell_type": "code",
   "execution_count": 103,
   "metadata": {},
   "outputs": [
    {
     "name": "stderr",
     "output_type": "stream",
     "text": [
      "[Parallel(n_jobs=1)]: Using backend SequentialBackend with 1 concurrent workers.\n",
      "[Parallel(n_jobs=1)]: Done   5 out of   5 | elapsed:    9.5s finished\n",
      "[Parallel(n_jobs=1)]: Using backend SequentialBackend with 1 concurrent workers.\n"
     ]
    },
    {
     "name": "stdout",
     "output_type": "stream",
     "text": [
      "[LibLinear][LibLinear][LibLinear][LibLinear][LibLinear]"
     ]
    },
    {
     "name": "stderr",
     "output_type": "stream",
     "text": [
      "[Parallel(n_jobs=1)]: Done   5 out of   5 | elapsed:    3.6s finished\n",
      "[Parallel(n_jobs=1)]: Using backend SequentialBackend with 1 concurrent workers.\n",
      "[Parallel(n_jobs=1)]: Done   5 out of   5 | elapsed:  1.6min finished\n",
      "[Parallel(n_jobs=1)]: Using backend SequentialBackend with 1 concurrent workers.\n",
      "[Parallel(n_jobs=1)]: Done   5 out of   5 | elapsed:  1.7min finished\n",
      "[Parallel(n_jobs=1)]: Using backend SequentialBackend with 1 concurrent workers.\n",
      "[Parallel(n_jobs=1)]: Done   5 out of   5 | elapsed:   10.9s finished\n"
     ]
    },
    {
     "data": {
      "text/plain": [
       "{'KNeighborsClassifier': [0.5939900230598207, 0.0017712503839307878],\n",
       " 'LogisticRegression': [0.8489573259237291, 0.0034508158781172194],\n",
       " 'AdaBoostClassifier': [0.858608168711411, 0.0022015280626144634],\n",
       " 'GradientBoostingClassifier': [0.8639791775424085, 0.0026881912318494627],\n",
       " 'RandomForestClassifier': [0.7773875049593642, 0.003184668608957333]}"
      ]
     },
     "execution_count": 103,
     "metadata": {},
     "output_type": "execute_result"
    }
   ],
   "source": [
    "cvDict = cvDictGen(functions=[knMod, lmMod, adaMod, gbMod, rfMod], scr='roc_auc')\n",
    "cvDict"
   ]
  },
  {
   "cell_type": "markdown",
   "metadata": {},
   "source": [
    "**AdaBoost Classifier** and **Gradient Boosting Classifier** seem to have the highest accuracy score among the other classifiers."
   ]
  },
  {
   "cell_type": "markdown",
   "metadata": {},
   "source": [
    "**Optimising the hyper parameters**"
   ]
  },
  {
   "cell_type": "markdown",
   "metadata": {},
   "source": [
    "To obtain the best hyper parameters for the above selected classifiers we use RandomizedSearchCV."
   ]
  },
  {
   "cell_type": "code",
   "execution_count": 104,
   "metadata": {},
   "outputs": [],
   "source": [
    "from sklearn.model_selection import RandomizedSearchCV\n",
    "from scipy.stats import randint"
   ]
  },
  {
   "cell_type": "markdown",
   "metadata": {},
   "source": [
    "**AdaBoost Classifier**"
   ]
  },
  {
   "cell_type": "code",
   "execution_count": 105,
   "metadata": {},
   "outputs": [
    {
     "name": "stderr",
     "output_type": "stream",
     "text": [
      "C:\\Users\\Bhavya\\Anaconda3\\lib\\site-packages\\sklearn\\model_selection\\_split.py:2053: FutureWarning: You should specify a value for 'cv' instead of relying on the default value. The default value will change from 3 to 5 in version 0.22.\n",
      "  warnings.warn(CV_WARNING, FutureWarning)\n",
      "[Parallel(n_jobs=1)]: Using backend SequentialBackend with 1 concurrent workers.\n"
     ]
    },
    {
     "name": "stdout",
     "output_type": "stream",
     "text": [
      "Fitting 3 folds for each of 5 candidates, totalling 15 fits\n",
      "[CV] n_estimators=10 .................................................\n",
      "[CV] .................................. n_estimators=10, total=   0.6s\n",
      "[CV] n_estimators=10 .................................................\n"
     ]
    },
    {
     "name": "stderr",
     "output_type": "stream",
     "text": [
      "[Parallel(n_jobs=1)]: Done   1 out of   1 | elapsed:    0.7s remaining:    0.0s\n"
     ]
    },
    {
     "name": "stdout",
     "output_type": "stream",
     "text": [
      "[CV] .................................. n_estimators=10, total=   0.6s\n",
      "[CV] n_estimators=10 .................................................\n",
      "[CV] .................................. n_estimators=10, total=   0.5s\n",
      "[CV] n_estimators=50 .................................................\n",
      "[CV] .................................. n_estimators=50, total=   2.8s\n",
      "[CV] n_estimators=50 .................................................\n",
      "[CV] .................................. n_estimators=50, total=   2.8s\n",
      "[CV] n_estimators=50 .................................................\n",
      "[CV] .................................. n_estimators=50, total=   2.9s\n",
      "[CV] n_estimators=100 ................................................\n",
      "[CV] ................................. n_estimators=100, total=   6.4s\n",
      "[CV] n_estimators=100 ................................................\n",
      "[CV] ................................. n_estimators=100, total=   5.8s\n",
      "[CV] n_estimators=100 ................................................\n",
      "[CV] ................................. n_estimators=100, total=   6.1s\n",
      "[CV] n_estimators=200 ................................................\n",
      "[CV] ................................. n_estimators=200, total=  12.3s\n",
      "[CV] n_estimators=200 ................................................\n",
      "[CV] ................................. n_estimators=200, total=  11.5s\n",
      "[CV] n_estimators=200 ................................................\n",
      "[CV] ................................. n_estimators=200, total=  11.4s\n",
      "[CV] n_estimators=420 ................................................\n",
      "[CV] ................................. n_estimators=420, total=  24.2s\n",
      "[CV] n_estimators=420 ................................................\n",
      "[CV] ................................. n_estimators=420, total=  25.0s\n",
      "[CV] n_estimators=420 ................................................\n",
      "[CV] ................................. n_estimators=420, total=  24.3s\n"
     ]
    },
    {
     "name": "stderr",
     "output_type": "stream",
     "text": [
      "[Parallel(n_jobs=1)]: Done  15 out of  15 | elapsed:  2.7min finished\n"
     ]
    }
   ],
   "source": [
    "adaHyperParams = {'n_estimators': [10,50,100,200,420]}\n",
    "gridSearchAda = RandomizedSearchCV(estimator=adaMod, param_distributions=adaHyperParams, n_iter=5,\n",
    "                                   scoring='roc_auc', fit_params=None, cv=None, verbose=2).fit(X_train, y_train)"
   ]
  },
  {
   "cell_type": "code",
   "execution_count": 106,
   "metadata": {},
   "outputs": [
    {
     "data": {
      "text/plain": [
       "({'n_estimators': 50}, 0.8577897146484661)"
      ]
     },
     "execution_count": 106,
     "metadata": {},
     "output_type": "execute_result"
    }
   ],
   "source": [
    "gridSearchAda.best_params_, gridSearchAda.best_score_"
   ]
  },
  {
   "cell_type": "markdown",
   "metadata": {},
   "source": [
    "**Gradient Boosting Classifier**"
   ]
  },
  {
   "cell_type": "code",
   "execution_count": 107,
   "metadata": {},
   "outputs": [],
   "source": [
    "gbHyperParams = {'loss' : ['deviance', 'exponential'],\n",
    "                 'n_estimators': randint(10, 500),\n",
    "                 'max_depth': randint(1,10)}"
   ]
  },
  {
   "cell_type": "code",
   "execution_count": 108,
   "metadata": {},
   "outputs": [
    {
     "name": "stderr",
     "output_type": "stream",
     "text": [
      "C:\\Users\\Bhavya\\Anaconda3\\lib\\site-packages\\sklearn\\model_selection\\_split.py:2053: FutureWarning: You should specify a value for 'cv' instead of relying on the default value. The default value will change from 3 to 5 in version 0.22.\n",
      "  warnings.warn(CV_WARNING, FutureWarning)\n",
      "[Parallel(n_jobs=1)]: Using backend SequentialBackend with 1 concurrent workers.\n"
     ]
    },
    {
     "name": "stdout",
     "output_type": "stream",
     "text": [
      "Fitting 3 folds for each of 10 candidates, totalling 30 fits\n",
      "[CV] loss=exponential, max_depth=6, n_estimators=378 .................\n",
      "[CV] .. loss=exponential, max_depth=6, n_estimators=378, total=  49.4s\n",
      "[CV] loss=exponential, max_depth=6, n_estimators=378 .................\n"
     ]
    },
    {
     "name": "stderr",
     "output_type": "stream",
     "text": [
      "[Parallel(n_jobs=1)]: Done   1 out of   1 | elapsed:   50.2s remaining:    0.0s\n"
     ]
    },
    {
     "name": "stdout",
     "output_type": "stream",
     "text": [
      "[CV] .. loss=exponential, max_depth=6, n_estimators=378, total=  50.0s\n",
      "[CV] loss=exponential, max_depth=6, n_estimators=378 .................\n",
      "[CV] .. loss=exponential, max_depth=6, n_estimators=378, total=  48.9s\n",
      "[CV] loss=exponential, max_depth=1, n_estimators=118 .................\n",
      "[CV] .. loss=exponential, max_depth=1, n_estimators=118, total=   1.9s\n",
      "[CV] loss=exponential, max_depth=1, n_estimators=118 .................\n",
      "[CV] .. loss=exponential, max_depth=1, n_estimators=118, total=   1.8s\n",
      "[CV] loss=exponential, max_depth=1, n_estimators=118 .................\n",
      "[CV] .. loss=exponential, max_depth=1, n_estimators=118, total=   1.8s\n",
      "[CV] loss=deviance, max_depth=2, n_estimators=432 ....................\n",
      "[CV] ..... loss=deviance, max_depth=2, n_estimators=432, total=  13.5s\n",
      "[CV] loss=deviance, max_depth=2, n_estimators=432 ....................\n",
      "[CV] ..... loss=deviance, max_depth=2, n_estimators=432, total=  13.9s\n",
      "[CV] loss=deviance, max_depth=2, n_estimators=432 ....................\n",
      "[CV] ..... loss=deviance, max_depth=2, n_estimators=432, total=  13.6s\n",
      "[CV] loss=exponential, max_depth=5, n_estimators=183 .................\n",
      "[CV] .. loss=exponential, max_depth=5, n_estimators=183, total=  18.5s\n",
      "[CV] loss=exponential, max_depth=5, n_estimators=183 .................\n",
      "[CV] .. loss=exponential, max_depth=5, n_estimators=183, total=  17.9s\n",
      "[CV] loss=exponential, max_depth=5, n_estimators=183 .................\n",
      "[CV] .. loss=exponential, max_depth=5, n_estimators=183, total=  16.6s\n",
      "[CV] loss=deviance, max_depth=2, n_estimators=28 .....................\n",
      "[CV] ...... loss=deviance, max_depth=2, n_estimators=28, total=   0.9s\n",
      "[CV] loss=deviance, max_depth=2, n_estimators=28 .....................\n",
      "[CV] ...... loss=deviance, max_depth=2, n_estimators=28, total=   0.9s\n",
      "[CV] loss=deviance, max_depth=2, n_estimators=28 .....................\n",
      "[CV] ...... loss=deviance, max_depth=2, n_estimators=28, total=   0.9s\n",
      "[CV] loss=deviance, max_depth=2, n_estimators=113 ....................\n",
      "[CV] ..... loss=deviance, max_depth=2, n_estimators=113, total=   3.6s\n",
      "[CV] loss=deviance, max_depth=2, n_estimators=113 ....................\n",
      "[CV] ..... loss=deviance, max_depth=2, n_estimators=113, total=   3.7s\n",
      "[CV] loss=deviance, max_depth=2, n_estimators=113 ....................\n",
      "[CV] ..... loss=deviance, max_depth=2, n_estimators=113, total=   3.6s\n",
      "[CV] loss=deviance, max_depth=4, n_estimators=174 ....................\n",
      "[CV] ..... loss=deviance, max_depth=4, n_estimators=174, total=  11.9s\n",
      "[CV] loss=deviance, max_depth=4, n_estimators=174 ....................\n",
      "[CV] ..... loss=deviance, max_depth=4, n_estimators=174, total=  12.1s\n",
      "[CV] loss=deviance, max_depth=4, n_estimators=174 ....................\n",
      "[CV] ..... loss=deviance, max_depth=4, n_estimators=174, total=  12.1s\n",
      "[CV] loss=exponential, max_depth=6, n_estimators=293 .................\n",
      "[CV] .. loss=exponential, max_depth=6, n_estimators=293, total=  37.6s\n",
      "[CV] loss=exponential, max_depth=6, n_estimators=293 .................\n",
      "[CV] .. loss=exponential, max_depth=6, n_estimators=293, total=  39.2s\n",
      "[CV] loss=exponential, max_depth=6, n_estimators=293 .................\n",
      "[CV] .. loss=exponential, max_depth=6, n_estimators=293, total=  38.2s\n",
      "[CV] loss=deviance, max_depth=1, n_estimators=29 .....................\n",
      "[CV] ...... loss=deviance, max_depth=1, n_estimators=29, total=   0.5s\n",
      "[CV] loss=deviance, max_depth=1, n_estimators=29 .....................\n",
      "[CV] ...... loss=deviance, max_depth=1, n_estimators=29, total=   0.5s\n",
      "[CV] loss=deviance, max_depth=1, n_estimators=29 .....................\n",
      "[CV] ...... loss=deviance, max_depth=1, n_estimators=29, total=   0.5s\n",
      "[CV] loss=exponential, max_depth=1, n_estimators=185 .................\n",
      "[CV] .. loss=exponential, max_depth=1, n_estimators=185, total=   2.9s\n",
      "[CV] loss=exponential, max_depth=1, n_estimators=185 .................\n",
      "[CV] .. loss=exponential, max_depth=1, n_estimators=185, total=   2.9s\n",
      "[CV] loss=exponential, max_depth=1, n_estimators=185 .................\n",
      "[CV] .. loss=exponential, max_depth=1, n_estimators=185, total=   2.9s\n"
     ]
    },
    {
     "name": "stderr",
     "output_type": "stream",
     "text": [
      "[Parallel(n_jobs=1)]: Done  30 out of  30 | elapsed:  7.2min finished\n"
     ]
    }
   ],
   "source": [
    "gridSearchGB = RandomizedSearchCV(estimator=gbMod, param_distributions=gbHyperParams, n_iter=10,\n",
    "                                   scoring='roc_auc', fit_params=None, cv=None, verbose=2).fit(X_train, y_train)"
   ]
  },
  {
   "cell_type": "code",
   "execution_count": 109,
   "metadata": {},
   "outputs": [
    {
     "data": {
      "text/plain": [
       "({'loss': 'deviance', 'max_depth': 4, 'n_estimators': 174}, 0.8621631881157767)"
      ]
     },
     "execution_count": 109,
     "metadata": {},
     "output_type": "execute_result"
    }
   ],
   "source": [
    "gridSearchGB.best_params_, gridSearchGB.best_score_"
   ]
  },
  {
   "cell_type": "markdown",
   "metadata": {},
   "source": [
    "Using these best hyper parameters, let's create two classifier functions."
   ]
  },
  {
   "cell_type": "code",
   "execution_count": 110,
   "metadata": {},
   "outputs": [],
   "source": [
    "bestGbModFitted = gridSearchGB.best_estimator_.fit(X_train, y_train)"
   ]
  },
  {
   "cell_type": "code",
   "execution_count": 111,
   "metadata": {},
   "outputs": [],
   "source": [
    "bestAdaModFitted = gridSearchAda.best_estimator_.fit(X_train, y_train)"
   ]
  },
  {
   "cell_type": "code",
   "execution_count": 112,
   "metadata": {},
   "outputs": [
    {
     "name": "stderr",
     "output_type": "stream",
     "text": [
      "[Parallel(n_jobs=1)]: Using backend SequentialBackend with 1 concurrent workers.\n",
      "[Parallel(n_jobs=1)]: Done   5 out of   5 | elapsed:  2.1min finished\n",
      "[Parallel(n_jobs=1)]: Using backend SequentialBackend with 1 concurrent workers.\n",
      "[Parallel(n_jobs=1)]: Done   5 out of   5 | elapsed:   23.1s finished\n"
     ]
    },
    {
     "data": {
      "text/plain": [
       "{'GradientBoostingClassifier': [0.8638181488105221, 0.0025066323770787735],\n",
       " 'AdaBoostClassifier': [0.8577636690935092, 0.0028861895301146943]}"
      ]
     },
     "execution_count": 112,
     "metadata": {},
     "output_type": "execute_result"
    }
   ],
   "source": [
    "cvDictbestpara = cvDictGen(functions=[bestGbModFitted, bestAdaModFitted], scr='roc_auc')\n",
    "\n",
    "cvDictbestpara"
   ]
  },
  {
   "cell_type": "code",
   "execution_count": 113,
   "metadata": {},
   "outputs": [
    {
     "data": {
      "text/plain": [
       "0.8641583311172129"
      ]
     },
     "execution_count": 113,
     "metadata": {},
     "output_type": "execute_result"
    }
   ],
   "source": [
    "test_labels=bestGbModFitted.predict_proba(np.array(X_test.values))[:,1]\n",
    "roc_auc_score(y_test,test_labels , average='macro', sample_weight=None)"
   ]
  },
  {
   "cell_type": "code",
   "execution_count": 114,
   "metadata": {},
   "outputs": [
    {
     "data": {
      "text/plain": [
       "0.8588894846599272"
      ]
     },
     "execution_count": 114,
     "metadata": {},
     "output_type": "execute_result"
    }
   ],
   "source": [
    "test_labels=bestAdaModFitted.predict_proba(np.array(X_test.values))[:,1]\n",
    "roc_auc_score(y_test,test_labels , average='macro', sample_weight=None)"
   ]
  },
  {
   "cell_type": "markdown",
   "metadata": {},
   "source": [
    "**Feature Transformation**"
   ]
  },
  {
   "cell_type": "markdown",
   "metadata": {},
   "source": [
    "To aviod skewed results, the features can be transformed using a logarithmic function."
   ]
  },
  {
   "cell_type": "code",
   "execution_count": 115,
   "metadata": {},
   "outputs": [],
   "source": [
    "import numpy as np\n",
    "from sklearn.preprocessing import FunctionTransformer"
   ]
  },
  {
   "cell_type": "code",
   "execution_count": 121,
   "metadata": {},
   "outputs": [
    {
     "name": "stderr",
     "output_type": "stream",
     "text": [
      "C:\\Users\\Bhavya\\Anaconda3\\lib\\site-packages\\sklearn\\preprocessing\\_function_transformer.py:98: FutureWarning: The default validate=True will be replaced by validate=False in 0.22.\n",
      "  \"validate=False in 0.22.\", FutureWarning)\n"
     ]
    }
   ],
   "source": [
    "transformer = FunctionTransformer(np.log1p)\n",
    "X_train_1 = np.array(X_train)\n",
    "X_train_transform = transformer.transform(X_train_1)"
   ]
  },
  {
   "cell_type": "code",
   "execution_count": 122,
   "metadata": {},
   "outputs": [],
   "source": [
    "bestGbModFitted_transformed = gridSearchGB.best_estimator_.fit(X_train_transform, y_train)\n",
    "bestAdaModFitted_transformed = gridSearchAda.best_estimator_.fit(X_train_transform, y_train)"
   ]
  },
  {
   "cell_type": "code",
   "execution_count": 123,
   "metadata": {},
   "outputs": [
    {
     "name": "stderr",
     "output_type": "stream",
     "text": [
      "[Parallel(n_jobs=1)]: Using backend SequentialBackend with 1 concurrent workers.\n",
      "[Parallel(n_jobs=1)]: Done   5 out of   5 | elapsed:  2.2min finished\n",
      "[Parallel(n_jobs=1)]: Using backend SequentialBackend with 1 concurrent workers.\n",
      "[Parallel(n_jobs=1)]: Done   5 out of   5 | elapsed:   26.6s finished\n"
     ]
    },
    {
     "data": {
      "text/plain": [
       "{'GradientBoostingClassifier': [0.863843668650707, 0.002518769131903486],\n",
       " 'AdaBoostClassifier': [0.8577636690935092, 0.0028861895301146943]}"
      ]
     },
     "execution_count": 123,
     "metadata": {},
     "output_type": "execute_result"
    }
   ],
   "source": [
    "cvDictbestpara_transform = cvDictGen(functions=[bestGbModFitted_transformed, bestAdaModFitted_transformed],scr='roc_auc')\n",
    "cvDictbestpara_transform"
   ]
  },
  {
   "cell_type": "code",
   "execution_count": 124,
   "metadata": {},
   "outputs": [
    {
     "name": "stderr",
     "output_type": "stream",
     "text": [
      "C:\\Users\\Bhavya\\Anaconda3\\lib\\site-packages\\sklearn\\preprocessing\\_function_transformer.py:98: FutureWarning: The default validate=True will be replaced by validate=False in 0.22.\n",
      "  \"validate=False in 0.22.\", FutureWarning)\n"
     ]
    }
   ],
   "source": [
    "X_test_1 = np.array(X_test)\n",
    "X_test_transform = transformer.transform(X_test_1)"
   ]
  },
  {
   "cell_type": "code",
   "execution_count": 125,
   "metadata": {},
   "outputs": [
    {
     "data": {
      "text/plain": [
       "0.8641068765656059"
      ]
     },
     "execution_count": 125,
     "metadata": {},
     "output_type": "execute_result"
    }
   ],
   "source": [
    "test_labels=bestGbModFitted_transformed.predict_proba(np.array(X_test_transform))[:,1]\n",
    "roc_auc_score(y_test,test_labels , average='macro', sample_weight=None)"
   ]
  },
  {
   "cell_type": "code",
   "execution_count": 126,
   "metadata": {},
   "outputs": [
    {
     "data": {
      "text/plain": [
       "0.858886448958591"
      ]
     },
     "execution_count": 126,
     "metadata": {},
     "output_type": "execute_result"
    }
   ],
   "source": [
    "test_labels=bestAdaModFitted_transformed.predict_proba(np.array(X_test_transform))[:,1]\n",
    "roc_auc_score(y_test,test_labels , average='macro', sample_weight=None)"
   ]
  },
  {
   "cell_type": "code",
   "execution_count": 127,
   "metadata": {},
   "outputs": [],
   "source": [
    "from sklearn.ensemble import VotingClassifier\n",
    "votingMod = VotingClassifier(estimators=[('gb', bestGbModFitted_transformed), \n",
    "                                         ('ada', bestAdaModFitted_transformed)],\n",
    "                             voting='soft',weights=[2,1]).fit(X_train_transform, y_train)\n"
   ]
  },
  {
   "cell_type": "code",
   "execution_count": 128,
   "metadata": {},
   "outputs": [
    {
     "data": {
      "text/plain": [
       "0.9366933333333334"
      ]
     },
     "execution_count": 128,
     "metadata": {},
     "output_type": "execute_result"
    }
   ],
   "source": [
    "test_labels=votingMod.predict_proba(np.array(X_test_transform))[:,1]\n",
    "votingMod.score(X_test_transform, y_test)"
   ]
  },
  {
   "cell_type": "code",
   "execution_count": 129,
   "metadata": {},
   "outputs": [
    {
     "data": {
      "text/plain": [
       "0.8641756604007096"
      ]
     },
     "execution_count": 129,
     "metadata": {},
     "output_type": "execute_result"
    }
   ],
   "source": [
    "roc_auc_score(y_test,test_labels , average='macro', sample_weight=None)"
   ]
  },
  {
   "cell_type": "code",
   "execution_count": 130,
   "metadata": {},
   "outputs": [
    {
     "data": {
      "text/plain": [
       "0.8641435921425782"
      ]
     },
     "execution_count": 130,
     "metadata": {},
     "output_type": "execute_result"
    }
   ],
   "source": [
    "votingMod_old = VotingClassifier(estimators=[('gb', bestGbModFitted), ('ada', bestAdaModFitted)], \n",
    "                                 voting='soft',weights=[2,1]).fit(X_train, y_train)\n",
    "test_labels=votingMod_old.predict_proba(np.array(X_test.values))[:,1]\n",
    "roc_auc_score(y_test,test_labels , average='macro', sample_weight=None)"
   ]
  },
  {
   "cell_type": "markdown",
   "metadata": {},
   "source": [
    "**Out-of-sample Testing**"
   ]
  },
  {
   "cell_type": "code",
   "execution_count": 132,
   "metadata": {},
   "outputs": [
    {
     "data": {
      "text/html": [
       "<div>\n",
       "<style scoped>\n",
       "    .dataframe tbody tr th:only-of-type {\n",
       "        vertical-align: middle;\n",
       "    }\n",
       "\n",
       "    .dataframe tbody tr th {\n",
       "        vertical-align: top;\n",
       "    }\n",
       "\n",
       "    .dataframe thead th {\n",
       "        text-align: right;\n",
       "    }\n",
       "</style>\n",
       "<table border=\"1\" class=\"dataframe\">\n",
       "  <thead>\n",
       "    <tr style=\"text-align: right;\">\n",
       "      <th></th>\n",
       "      <th>revolvingutilizationofunsecuredlines</th>\n",
       "      <th>age</th>\n",
       "      <th>numberoftime3059dayspastduenotworse</th>\n",
       "      <th>debtratio</th>\n",
       "      <th>monthlyincome</th>\n",
       "      <th>numberofopencreditlinesandloans</th>\n",
       "      <th>numberoftimes90dayslate</th>\n",
       "      <th>numberrealestateloansorlines</th>\n",
       "      <th>numberoftime6089dayspastduenotworse</th>\n",
       "      <th>numberofdependents</th>\n",
       "    </tr>\n",
       "  </thead>\n",
       "  <tbody>\n",
       "    <tr>\n",
       "      <th>0</th>\n",
       "      <td>0.885519</td>\n",
       "      <td>43</td>\n",
       "      <td>0</td>\n",
       "      <td>0.177513</td>\n",
       "      <td>5700.0</td>\n",
       "      <td>4</td>\n",
       "      <td>0</td>\n",
       "      <td>0</td>\n",
       "      <td>0</td>\n",
       "      <td>0.0</td>\n",
       "    </tr>\n",
       "    <tr>\n",
       "      <th>1</th>\n",
       "      <td>0.463295</td>\n",
       "      <td>57</td>\n",
       "      <td>0</td>\n",
       "      <td>0.527237</td>\n",
       "      <td>9141.0</td>\n",
       "      <td>15</td>\n",
       "      <td>0</td>\n",
       "      <td>4</td>\n",
       "      <td>0</td>\n",
       "      <td>2.0</td>\n",
       "    </tr>\n",
       "    <tr>\n",
       "      <th>2</th>\n",
       "      <td>0.043275</td>\n",
       "      <td>59</td>\n",
       "      <td>0</td>\n",
       "      <td>0.687648</td>\n",
       "      <td>5083.0</td>\n",
       "      <td>12</td>\n",
       "      <td>0</td>\n",
       "      <td>1</td>\n",
       "      <td>0</td>\n",
       "      <td>2.0</td>\n",
       "    </tr>\n",
       "    <tr>\n",
       "      <th>3</th>\n",
       "      <td>0.280308</td>\n",
       "      <td>38</td>\n",
       "      <td>1</td>\n",
       "      <td>0.925961</td>\n",
       "      <td>3200.0</td>\n",
       "      <td>7</td>\n",
       "      <td>0</td>\n",
       "      <td>2</td>\n",
       "      <td>0</td>\n",
       "      <td>0.0</td>\n",
       "    </tr>\n",
       "    <tr>\n",
       "      <th>4</th>\n",
       "      <td>1.000000</td>\n",
       "      <td>27</td>\n",
       "      <td>0</td>\n",
       "      <td>0.019917</td>\n",
       "      <td>3865.0</td>\n",
       "      <td>4</td>\n",
       "      <td>0</td>\n",
       "      <td>0</td>\n",
       "      <td>0</td>\n",
       "      <td>1.0</td>\n",
       "    </tr>\n",
       "  </tbody>\n",
       "</table>\n",
       "</div>"
      ],
      "text/plain": [
       "   revolvingutilizationofunsecuredlines  age  \\\n",
       "0                              0.885519   43   \n",
       "1                              0.463295   57   \n",
       "2                              0.043275   59   \n",
       "3                              0.280308   38   \n",
       "4                              1.000000   27   \n",
       "\n",
       "   numberoftime3059dayspastduenotworse  debtratio  monthlyincome  \\\n",
       "0                                    0   0.177513         5700.0   \n",
       "1                                    0   0.527237         9141.0   \n",
       "2                                    0   0.687648         5083.0   \n",
       "3                                    1   0.925961         3200.0   \n",
       "4                                    0   0.019917         3865.0   \n",
       "\n",
       "   numberofopencreditlinesandloans  numberoftimes90dayslate  \\\n",
       "0                                4                        0   \n",
       "1                               15                        0   \n",
       "2                               12                        0   \n",
       "3                                7                        0   \n",
       "4                                4                        0   \n",
       "\n",
       "   numberrealestateloansorlines  numberoftime6089dayspastduenotworse  \\\n",
       "0                             0                                    0   \n",
       "1                             4                                    0   \n",
       "2                             1                                    0   \n",
       "3                             2                                    0   \n",
       "4                             0                                    0   \n",
       "\n",
       "   numberofdependents  \n",
       "0                 0.0  \n",
       "1                 2.0  \n",
       "2                 2.0  \n",
       "3                 0.0  \n",
       "4                 1.0  "
      ]
     },
     "execution_count": 132,
     "metadata": {},
     "output_type": "execute_result"
    }
   ],
   "source": [
    "testing_data = pd.read_csv('https://raw.githubusercontent.com/akjadon/Finalprojects_DS/master/Credit-Risk-Modelling/data/cs-test.csv').drop('Unnamed: 0', axis = 1)\n",
    "\n",
    "cleancolumn = []\n",
    "for i in range(len(testing_data.columns)):\n",
    "    cleancolumn.append(testing_data.columns[i].replace('-', '').lower())\n",
    "testing_data.columns = cleancolumn\n",
    "\n",
    "testing_data.drop(['seriousdlqin2yrs'], axis=1, inplace=True)\n",
    "testing_data.fillna((training_data.median()), inplace=True)\n",
    "testing_data.head()"
   ]
  },
  {
   "cell_type": "code",
   "execution_count": 150,
   "metadata": {},
   "outputs": [
    {
     "data": {
      "text/plain": [
       "(101503, 10)"
      ]
     },
     "execution_count": 150,
     "metadata": {},
     "output_type": "execute_result"
    }
   ],
   "source": [
    "testing_data.shape"
   ]
  },
  {
   "cell_type": "code",
   "execution_count": 149,
   "metadata": {},
   "outputs": [
    {
     "name": "stdout",
     "output_type": "stream",
     "text": [
      "[[0.78842345 0.21157655]\n",
      " [0.8122436  0.1877564 ]\n",
      " [0.83185984 0.16814016]\n",
      " ...\n",
      " [0.83681186 0.16318814]\n",
      " [0.79074136 0.20925864]\n",
      " [0.81013278 0.18986722]]\n"
     ]
    }
   ],
   "source": [
    "test_labels_votingMod_old = votingMod_old.predict_proba(np.array(test_data.values))\n",
    "print ((test_labels_votingMod_old))"
   ]
  },
  {
   "cell_type": "code",
   "execution_count": 153,
   "metadata": {},
   "outputs": [],
   "source": [
    "output_votingmod_old = pd.DataFrame({'ID':test_data.index, 'probability':test_labels_votingMod_old[:,1]})\n",
    "output_votingmod_old.set_index('ID', inplace = True)"
   ]
  },
  {
   "cell_type": "markdown",
   "metadata": {},
   "source": [
    "This dataframe (features not transformed) gives the probability the payment of a borrower's loan is delayed."
   ]
  },
  {
   "cell_type": "code",
   "execution_count": 154,
   "metadata": {},
   "outputs": [
    {
     "data": {
      "text/html": [
       "<div>\n",
       "<style scoped>\n",
       "    .dataframe tbody tr th:only-of-type {\n",
       "        vertical-align: middle;\n",
       "    }\n",
       "\n",
       "    .dataframe tbody tr th {\n",
       "        vertical-align: top;\n",
       "    }\n",
       "\n",
       "    .dataframe thead th {\n",
       "        text-align: right;\n",
       "    }\n",
       "</style>\n",
       "<table border=\"1\" class=\"dataframe\">\n",
       "  <thead>\n",
       "    <tr style=\"text-align: right;\">\n",
       "      <th></th>\n",
       "      <th>probability</th>\n",
       "    </tr>\n",
       "    <tr>\n",
       "      <th>ID</th>\n",
       "      <th></th>\n",
       "    </tr>\n",
       "  </thead>\n",
       "  <tbody>\n",
       "    <tr>\n",
       "      <th>0</th>\n",
       "      <td>0.211577</td>\n",
       "    </tr>\n",
       "    <tr>\n",
       "      <th>1</th>\n",
       "      <td>0.187756</td>\n",
       "    </tr>\n",
       "    <tr>\n",
       "      <th>2</th>\n",
       "      <td>0.168140</td>\n",
       "    </tr>\n",
       "    <tr>\n",
       "      <th>3</th>\n",
       "      <td>0.213665</td>\n",
       "    </tr>\n",
       "    <tr>\n",
       "      <th>4</th>\n",
       "      <td>0.238911</td>\n",
       "    </tr>\n",
       "  </tbody>\n",
       "</table>\n",
       "</div>"
      ],
      "text/plain": [
       "    probability\n",
       "ID             \n",
       "0      0.211577\n",
       "1      0.187756\n",
       "2      0.168140\n",
       "3      0.213665\n",
       "4      0.238911"
      ]
     },
     "execution_count": 154,
     "metadata": {},
     "output_type": "execute_result"
    }
   ],
   "source": [
    "output_votingmod_old.head()"
   ]
  },
  {
   "cell_type": "code",
   "execution_count": 152,
   "metadata": {},
   "outputs": [
    {
     "name": "stderr",
     "output_type": "stream",
     "text": [
      "C:\\Users\\Bhavya\\Anaconda3\\lib\\site-packages\\sklearn\\preprocessing\\_function_transformer.py:98: FutureWarning: The default validate=True will be replaced by validate=False in 0.22.\n",
      "  \"validate=False in 0.22.\", FutureWarning)\n"
     ]
    },
    {
     "name": "stdout",
     "output_type": "stream",
     "text": [
      "[[0.28401602 0.71598398]\n",
      " [0.17078032 0.82921968]\n",
      " [0.17546096 0.82453904]\n",
      " ...\n",
      " [0.51742313 0.48257687]\n",
      " [0.16213633 0.83786367]\n",
      " [0.20825763 0.79174237]]\n"
     ]
    }
   ],
   "source": [
    "test_data_temp = np.array(test_data)\n",
    "test_data_transform = transformer.transform(test_data_temp)\n",
    "test_labels_votingMod = votingMod.predict_proba(np.array(test_data.values))\n",
    "print ((test_labels_votingMod))"
   ]
  },
  {
   "cell_type": "markdown",
   "metadata": {},
   "source": [
    "This dataframe (features transformed) gives the probability the payment of a borrower's loan is delayed."
   ]
  },
  {
   "cell_type": "code",
   "execution_count": 155,
   "metadata": {},
   "outputs": [],
   "source": [
    "output_votingmod = pd.DataFrame({'ID':test_data.index, 'probability':test_labels_votingMod[:,0]})\n",
    "output_votingmod.set_index('ID', inplace = True)"
   ]
  },
  {
   "cell_type": "code",
   "execution_count": 156,
   "metadata": {},
   "outputs": [
    {
     "data": {
      "text/html": [
       "<div>\n",
       "<style scoped>\n",
       "    .dataframe tbody tr th:only-of-type {\n",
       "        vertical-align: middle;\n",
       "    }\n",
       "\n",
       "    .dataframe tbody tr th {\n",
       "        vertical-align: top;\n",
       "    }\n",
       "\n",
       "    .dataframe thead th {\n",
       "        text-align: right;\n",
       "    }\n",
       "</style>\n",
       "<table border=\"1\" class=\"dataframe\">\n",
       "  <thead>\n",
       "    <tr style=\"text-align: right;\">\n",
       "      <th></th>\n",
       "      <th>probability</th>\n",
       "    </tr>\n",
       "    <tr>\n",
       "      <th>ID</th>\n",
       "      <th></th>\n",
       "    </tr>\n",
       "  </thead>\n",
       "  <tbody>\n",
       "    <tr>\n",
       "      <th>0</th>\n",
       "      <td>0.284016</td>\n",
       "    </tr>\n",
       "    <tr>\n",
       "      <th>1</th>\n",
       "      <td>0.170780</td>\n",
       "    </tr>\n",
       "    <tr>\n",
       "      <th>2</th>\n",
       "      <td>0.175461</td>\n",
       "    </tr>\n",
       "    <tr>\n",
       "      <th>3</th>\n",
       "      <td>0.160934</td>\n",
       "    </tr>\n",
       "    <tr>\n",
       "      <th>4</th>\n",
       "      <td>0.329554</td>\n",
       "    </tr>\n",
       "  </tbody>\n",
       "</table>\n",
       "</div>"
      ],
      "text/plain": [
       "    probability\n",
       "ID             \n",
       "0      0.284016\n",
       "1      0.170780\n",
       "2      0.175461\n",
       "3      0.160934\n",
       "4      0.329554"
      ]
     },
     "execution_count": 156,
     "metadata": {},
     "output_type": "execute_result"
    }
   ],
   "source": [
    "output_votingmod.head()"
   ]
  },
  {
   "cell_type": "code",
   "execution_count": null,
   "metadata": {},
   "outputs": [],
   "source": []
  }
 ],
 "metadata": {
  "kernelspec": {
   "display_name": "Python 3",
   "language": "python",
   "name": "python3"
  },
  "language_info": {
   "codemirror_mode": {
    "name": "ipython",
    "version": 3
   },
   "file_extension": ".py",
   "mimetype": "text/x-python",
   "name": "python",
   "nbconvert_exporter": "python",
   "pygments_lexer": "ipython3",
   "version": "3.7.1"
  }
 },
 "nbformat": 4,
 "nbformat_minor": 2
}
